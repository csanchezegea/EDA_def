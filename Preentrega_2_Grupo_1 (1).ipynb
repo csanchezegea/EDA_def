{
 "cells": [
  {
   "cell_type": "markdown",
   "id": "00388cfc",
   "metadata": {},
   "source": [
    "# Notebook Prentrega 2 del Grupo 1\n",
    "\n",
    "                                    Tema: Defunciones en Argentina\n",
    "\n",
    "Integrantes del Grupo: - Antonella Arcuri\n",
    "                       - Daniela Araujo\n",
    "                       - Maria Candela Herrera\n",
    "                       - Ana Clara Sanchez\n",
    "Dataset obtenido de: http://datos.salud.gob.ar/dataset/datos-salud-gob-ar-dataset-defunciones-mensuales-ocurridas-en-la-republica-argentina\n",
    "\n",
    "Tipo de archivo: csv\n",
    "\n",
    "Objetivo planteado: Analizar fallecimientos en Argentina entre los años 2015 y 2021"
   ]
  },
  {
   "cell_type": "code",
   "execution_count": 2,
   "id": "85511014",
   "metadata": {},
   "outputs": [],
   "source": [
    "# Importar librerias a utilizar\n",
    "import pandas as pd\n",
    "import numpy as np\n",
    "import matplotlib.pyplot as plt\n",
    "import seaborn as sns\n",
    "from scipy import stats\n",
    "from sklearn.preprocessing import LabelEncoder"
   ]
  },
  {
   "cell_type": "code",
   "execution_count": 3,
   "id": "0e2aedc5",
   "metadata": {},
   "outputs": [],
   "source": [
    "#Leer archivo del data set\n",
    "defunciones = pd.read_csv('arg_def_15_21.csv')"
   ]
  },
  {
   "cell_type": "code",
   "execution_count": 4,
   "id": "023edc91",
   "metadata": {},
   "outputs": [
    {
     "data": {
      "text/html": [
       "<div>\n",
       "<style scoped>\n",
       "    .dataframe tbody tr th:only-of-type {\n",
       "        vertical-align: middle;\n",
       "    }\n",
       "\n",
       "    .dataframe tbody tr th {\n",
       "        vertical-align: top;\n",
       "    }\n",
       "\n",
       "    .dataframe thead th {\n",
       "        text-align: right;\n",
       "    }\n",
       "</style>\n",
       "<table border=\"1\" class=\"dataframe\">\n",
       "  <thead>\n",
       "    <tr style=\"text-align: right;\">\n",
       "      <th></th>\n",
       "      <th>region</th>\n",
       "      <th>jurisdiccion</th>\n",
       "      <th>mes_anio_defuncion</th>\n",
       "      <th>mes_def</th>\n",
       "      <th>anio_def</th>\n",
       "      <th>sexo_id</th>\n",
       "      <th>sexo_nombre</th>\n",
       "      <th>grupo_etario</th>\n",
       "      <th>grupo_causa_defuncion_CIE10</th>\n",
       "      <th>cod_causa_muerte_CIE10</th>\n",
       "      <th>cantidad</th>\n",
       "    </tr>\n",
       "  </thead>\n",
       "  <tbody>\n",
       "    <tr>\n",
       "      <th>0</th>\n",
       "      <td>1.Centro</td>\n",
       "      <td>6.Prov. Bs.As.</td>\n",
       "      <td>09/2015</td>\n",
       "      <td>9</td>\n",
       "      <td>2015</td>\n",
       "      <td>1</td>\n",
       "      <td>1.Varones</td>\n",
       "      <td>01.menor a 20 anios</td>\n",
       "      <td>1500 AFECC  PERINATALES</td>\n",
       "      <td>P21</td>\n",
       "      <td>1</td>\n",
       "    </tr>\n",
       "    <tr>\n",
       "      <th>1</th>\n",
       "      <td>1.Centro</td>\n",
       "      <td>6.Prov. Bs.As.</td>\n",
       "      <td>09/2015</td>\n",
       "      <td>9</td>\n",
       "      <td>2015</td>\n",
       "      <td>1</td>\n",
       "      <td>1.Varones</td>\n",
       "      <td>01.menor a 20 anios</td>\n",
       "      <td>1600 MALFORM  CONGENITAS, DEFORM  Y ANOM  CROM...</td>\n",
       "      <td>Q60</td>\n",
       "      <td>1</td>\n",
       "    </tr>\n",
       "    <tr>\n",
       "      <th>2</th>\n",
       "      <td>1.Centro</td>\n",
       "      <td>6.Prov. Bs.As.</td>\n",
       "      <td>08/2015</td>\n",
       "      <td>8</td>\n",
       "      <td>2015</td>\n",
       "      <td>1</td>\n",
       "      <td>1.Varones</td>\n",
       "      <td>01.menor a 20 anios</td>\n",
       "      <td>1600 MALFORM  CONGENITAS, DEFORM  Y ANOM  CROM...</td>\n",
       "      <td>Q24</td>\n",
       "      <td>1</td>\n",
       "    </tr>\n",
       "    <tr>\n",
       "      <th>3</th>\n",
       "      <td>1.Centro</td>\n",
       "      <td>6.Prov. Bs.As.</td>\n",
       "      <td>05/2015</td>\n",
       "      <td>5</td>\n",
       "      <td>2015</td>\n",
       "      <td>1</td>\n",
       "      <td>1.Varones</td>\n",
       "      <td>01.menor a 20 anios</td>\n",
       "      <td>1000 ENF SISTEMA RESPIRATORIO</td>\n",
       "      <td>J18</td>\n",
       "      <td>1</td>\n",
       "    </tr>\n",
       "    <tr>\n",
       "      <th>4</th>\n",
       "      <td>1.Centro</td>\n",
       "      <td>6.Prov. Bs.As.</td>\n",
       "      <td>10/2015</td>\n",
       "      <td>10</td>\n",
       "      <td>2015</td>\n",
       "      <td>1</td>\n",
       "      <td>1.Varones</td>\n",
       "      <td>01.menor a 20 anios</td>\n",
       "      <td>1500 AFECC  PERINATALES</td>\n",
       "      <td>P36</td>\n",
       "      <td>1</td>\n",
       "    </tr>\n",
       "  </tbody>\n",
       "</table>\n",
       "</div>"
      ],
      "text/plain": [
       "     region    jurisdiccion mes_anio_defuncion  mes_def  anio_def  sexo_id  \\\n",
       "0  1.Centro  6.Prov. Bs.As.            09/2015        9      2015        1   \n",
       "1  1.Centro  6.Prov. Bs.As.            09/2015        9      2015        1   \n",
       "2  1.Centro  6.Prov. Bs.As.            08/2015        8      2015        1   \n",
       "3  1.Centro  6.Prov. Bs.As.            05/2015        5      2015        1   \n",
       "4  1.Centro  6.Prov. Bs.As.            10/2015       10      2015        1   \n",
       "\n",
       "  sexo_nombre         grupo_etario  \\\n",
       "0   1.Varones  01.menor a 20 anios   \n",
       "1   1.Varones  01.menor a 20 anios   \n",
       "2   1.Varones  01.menor a 20 anios   \n",
       "3   1.Varones  01.menor a 20 anios   \n",
       "4   1.Varones  01.menor a 20 anios   \n",
       "\n",
       "                         grupo_causa_defuncion_CIE10 cod_causa_muerte_CIE10  \\\n",
       "0                            1500 AFECC  PERINATALES                    P21   \n",
       "1  1600 MALFORM  CONGENITAS, DEFORM  Y ANOM  CROM...                    Q60   \n",
       "2  1600 MALFORM  CONGENITAS, DEFORM  Y ANOM  CROM...                    Q24   \n",
       "3                      1000 ENF SISTEMA RESPIRATORIO                    J18   \n",
       "4                            1500 AFECC  PERINATALES                    P36   \n",
       "\n",
       "   cantidad  \n",
       "0         1  \n",
       "1         1  \n",
       "2         1  \n",
       "3         1  \n",
       "4         1  "
      ]
     },
     "execution_count": 4,
     "metadata": {},
     "output_type": "execute_result"
    }
   ],
   "source": [
    "# Chequeamos que leyó el archivo\n",
    "defunciones.head()"
   ]
  },
  {
   "cell_type": "code",
   "execution_count": 5,
   "id": "98ba3772",
   "metadata": {},
   "outputs": [
    {
     "data": {
      "text/plain": [
       "region                         object\n",
       "jurisdiccion                   object\n",
       "mes_anio_defuncion             object\n",
       "mes_def                         int64\n",
       "anio_def                        int64\n",
       "sexo_id                         int64\n",
       "sexo_nombre                    object\n",
       "grupo_etario                   object\n",
       "grupo_causa_defuncion_CIE10    object\n",
       "cod_causa_muerte_CIE10         object\n",
       "cantidad                        int64\n",
       "dtype: object"
      ]
     },
     "execution_count": 5,
     "metadata": {},
     "output_type": "execute_result"
    }
   ],
   "source": [
    "# Revisar tipo de datos en el dataset\n",
    "defunciones.dtypes"
   ]
  },
  {
   "cell_type": "code",
   "execution_count": 6,
   "id": "733a3e80",
   "metadata": {},
   "outputs": [
    {
     "name": "stdout",
     "output_type": "stream",
     "text": [
      "El dataset cuenta con  (2516784, 11) siendo el primer campo filas y el segundo columnas\n"
     ]
    }
   ],
   "source": [
    "# Chequear cantidad de datos en el dataset\n",
    "tamaño=defunciones.shape\n",
    "print(\"El dataset cuenta con \", tamaño, \"siendo el primer campo filas y el segundo columnas\")"
   ]
  },
  {
   "cell_type": "code",
   "execution_count": 7,
   "id": "26f37dd3",
   "metadata": {},
   "outputs": [
    {
     "name": "stdout",
     "output_type": "stream",
     "text": [
      "El dataset tiene 2516784 filas en total y tiene 11 columnas\n"
     ]
    }
   ],
   "source": [
    "#Asigno variable al total de filas y de columnas\n",
    "num_filas,num_columnas=defunciones.shape\n",
    "print( f\"El dataset tiene {num_filas} filas en total y tiene {num_columnas} columnas\")"
   ]
  },
  {
   "cell_type": "code",
   "execution_count": 8,
   "id": "fd37a3ec",
   "metadata": {},
   "outputs": [
    {
     "name": "stdout",
     "output_type": "stream",
     "text": [
      "region                         0\n",
      "jurisdiccion                   0\n",
      "mes_anio_defuncion             0\n",
      "mes_def                        0\n",
      "anio_def                       0\n",
      "sexo_id                        0\n",
      "sexo_nombre                    0\n",
      "grupo_etario                   0\n",
      "grupo_causa_defuncion_CIE10    0\n",
      "cod_causa_muerte_CIE10         0\n",
      "cantidad                       0\n",
      "dtype: int64\n"
     ]
    }
   ],
   "source": [
    "# Revisar si existen datos faltantes en el dataset\n",
    "valores_faltantes=defunciones.isnull().sum()\n",
    "print(valores_faltantes)\n",
    "\n",
    "# No hay datos faltante"
   ]
  },
  {
   "cell_type": "code",
   "execution_count": 9,
   "id": "738fe91e",
   "metadata": {},
   "outputs": [
    {
     "data": {
      "text/plain": [
       "region                         0\n",
       "jurisdiccion                   0\n",
       "mes_anio_defuncion             0\n",
       "mes_def                        0\n",
       "anio_def                       0\n",
       "sexo_id                        0\n",
       "sexo_nombre                    0\n",
       "grupo_etario                   0\n",
       "grupo_causa_defuncion_CIE10    0\n",
       "cod_causa_muerte_CIE10         0\n",
       "cantidad                       0\n",
       "dtype: int64"
      ]
     },
     "execution_count": 9,
     "metadata": {},
     "output_type": "execute_result"
    }
   ],
   "source": [
    "#Datos con NA\n",
    "\n",
    "defunciones.isna().sum()"
   ]
  },
  {
   "cell_type": "code",
   "execution_count": 10,
   "id": "12399b11-78e4-4616-9ba3-14e016c63c49",
   "metadata": {},
   "outputs": [],
   "source": [
    "# RENOMBRAR COLUMNAS \n"
   ]
  },
  {
   "cell_type": "code",
   "execution_count": 11,
   "id": "f5d957d3-8b58-4b3d-ae37-2cf19f669e46",
   "metadata": {},
   "outputs": [],
   "source": [
    "defunciones.rename(columns={'grupo_causa_defuncion_CIE10': 'causa_defuncion', 'cod_causa_muerte_CIE10': 'cod_causa_muerte'}, inplace=True)"
   ]
  },
  {
   "cell_type": "code",
   "execution_count": 12,
   "id": "f2ad1f7f-02c4-4e3a-84ae-f74ec0921240",
   "metadata": {},
   "outputs": [
    {
     "data": {
      "text/plain": [
       "Index(['region', 'jurisdiccion', 'mes_anio_defuncion', 'mes_def', 'anio_def',\n",
       "       'sexo_id', 'sexo_nombre', 'grupo_etario', 'causa_defuncion',\n",
       "       'cod_causa_muerte', 'cantidad'],\n",
       "      dtype='object')"
      ]
     },
     "execution_count": 12,
     "metadata": {},
     "output_type": "execute_result"
    }
   ],
   "source": [
    "defunciones.columns"
   ]
  },
  {
   "cell_type": "code",
   "execution_count": 13,
   "id": "21c9f231",
   "metadata": {},
   "outputs": [],
   "source": [
    "# Filtrar cantidad de datos por año\n"
   ]
  },
  {
   "cell_type": "code",
   "execution_count": 14,
   "id": "150126ce-fa37-45f4-be85-289cc15b6dd4",
   "metadata": {},
   "outputs": [],
   "source": [
    "def_anio=defunciones['anio_def'].value_counts()"
   ]
  },
  {
   "cell_type": "code",
   "execution_count": 15,
   "id": "2c6d0665-6847-4d0e-b916-60f502f518c4",
   "metadata": {},
   "outputs": [
    {
     "name": "stdout",
     "output_type": "stream",
     "text": [
      "2021    432242\n",
      "2020    377592\n",
      "2016    352506\n",
      "2017    342344\n",
      "2019    341057\n",
      "2018    337600\n",
      "2015    333443\n",
      "Name: anio_def, dtype: int64\n"
     ]
    }
   ],
   "source": [
    "print(def_anio)"
   ]
  },
  {
   "cell_type": "code",
   "execution_count": 16,
   "id": "16ff8b56",
   "metadata": {},
   "outputs": [],
   "source": [
    "# Filtrar categorias de la variable jurisdiccion\n"
   ]
  },
  {
   "cell_type": "code",
   "execution_count": 17,
   "id": "77a42478-cb17-440f-b58b-f29ea83d5fff",
   "metadata": {},
   "outputs": [
    {
     "data": {
      "text/plain": [
       "array(['6.Prov. Bs.As.', '2.CABA', '99.no identificado.', '14.Cordoba.',\n",
       "       '82.Santa Fe.', '54.Misiones.', '22.Chaco.', '90.Tucuman.',\n",
       "       '18.Corrientes.', '30.Entre Rios.', '34.Formosa.', '50.Mendoza.'],\n",
       "      dtype=object)"
      ]
     },
     "execution_count": 17,
     "metadata": {},
     "output_type": "execute_result"
    }
   ],
   "source": [
    "defunciones['jurisdiccion'].unique()"
   ]
  },
  {
   "cell_type": "code",
   "execution_count": 18,
   "id": "ee9193e1-bc20-4022-a263-4fecacc60dd0",
   "metadata": {},
   "outputs": [],
   "source": [
    "# ver cantidad de ''99 no identificado' de la variable jurisdiccion por año\n"
   ]
  },
  {
   "cell_type": "code",
   "execution_count": 19,
   "id": "6a6e9c72-a944-469c-8895-9b07f827a939",
   "metadata": {},
   "outputs": [],
   "source": [
    "juris_99=defunciones[defunciones['jurisdiccion'] == '99.no identificado.']['anio_def'].value_counts()"
   ]
  },
  {
   "cell_type": "code",
   "execution_count": 20,
   "id": "242dff12-10aa-456b-ba1a-348abc1a2100",
   "metadata": {},
   "outputs": [
    {
     "name": "stdout",
     "output_type": "stream",
     "text": [
      "2021    65963\n",
      "2020    57838\n",
      "2016    50156\n",
      "2018    49802\n",
      "2019    49610\n",
      "2017    49278\n",
      "2015    46925\n",
      "Name: anio_def, dtype: int64\n"
     ]
    }
   ],
   "source": [
    "print(juris_99)"
   ]
  },
  {
   "cell_type": "code",
   "execution_count": 21,
   "id": "f063d63c-bf99-4b82-b623-051328113604",
   "metadata": {},
   "outputs": [],
   "source": [
    "# ver porcentaje de ''99 no identificado' sobre el total de datos de la variable jurisdiccion\n"
   ]
  },
  {
   "cell_type": "code",
   "execution_count": 22,
   "id": "a2426c0f-3cf1-4730-9b9f-1dda6d8b02d0",
   "metadata": {},
   "outputs": [],
   "source": [
    "porc_99_jurisd=(juris_99/def_anio)*100"
   ]
  },
  {
   "cell_type": "code",
   "execution_count": 23,
   "id": "a591a0c4-d63f-4eab-be23-a12502e50fc0",
   "metadata": {},
   "outputs": [
    {
     "name": "stdout",
     "output_type": "stream",
     "text": [
      "2015    14.072870\n",
      "2016    14.228410\n",
      "2017    14.394293\n",
      "2018    14.751777\n",
      "2019    14.545956\n",
      "2020    15.317591\n",
      "2021    15.260664\n",
      "Name: anio_def, dtype: float64\n"
     ]
    }
   ],
   "source": [
    "print (porc_99_jurisd)"
   ]
  },
  {
   "cell_type": "code",
   "execution_count": 24,
   "id": "29806a04-fa2b-4887-ac8f-df0f034b3d72",
   "metadata": {},
   "outputs": [],
   "source": [
    "# promedio de '99 no identificado'"
   ]
  },
  {
   "cell_type": "code",
   "execution_count": 25,
   "id": "c838b90e-a8c7-4f9c-9052-733706421568",
   "metadata": {},
   "outputs": [
    {
     "data": {
      "text/plain": [
       "14.653080333352424"
      ]
     },
     "execution_count": 25,
     "metadata": {},
     "output_type": "execute_result"
    }
   ],
   "source": [
    "porc_99_jurisd.mean()"
   ]
  },
  {
   "cell_type": "code",
   "execution_count": 26,
   "id": "53c3d2d2-4961-489e-9738-86be11bd93c4",
   "metadata": {},
   "outputs": [],
   "source": [
    "# Filtrar categorias, cantidad y datos sin espeficficar de la variable rango etario"
   ]
  },
  {
   "cell_type": "code",
   "execution_count": 27,
   "id": "6c7f0fa2-9597-4f96-af73-3a328f3c3ffd",
   "metadata": {},
   "outputs": [
    {
     "data": {
      "text/plain": [
       "array(['01.menor a 20 anios', '05.de 60 a 69 anios',\n",
       "       '03.de 40 a 49 anios', '02.de 20 a 39 anios',\n",
       "       '04.de 50 a 59 anios', '07. de 80 anios y mas',\n",
       "       '06.de 70 a 79 anios', '08.sin especificar'], dtype=object)"
      ]
     },
     "execution_count": 27,
     "metadata": {},
     "output_type": "execute_result"
    }
   ],
   "source": [
    "defunciones['grupo_etario'].unique()"
   ]
  },
  {
   "cell_type": "code",
   "execution_count": 28,
   "id": "a689f321-59ae-4f35-a45c-07ffb4abff6e",
   "metadata": {},
   "outputs": [
    {
     "data": {
      "text/plain": [
       "07. de 80 anios y mas    997080\n",
       "06.de 70 a 79 anios      592922\n",
       "05.de 60 a 69 anios      416732\n",
       "04.de 50 a 59 anios      209595\n",
       "02.de 20 a 39 anios      107111\n",
       "03.de 40 a 49 anios      103711\n",
       "01.menor a 20 anios       75626\n",
       "08.sin especificar        14007\n",
       "Name: grupo_etario, dtype: int64"
      ]
     },
     "execution_count": 28,
     "metadata": {},
     "output_type": "execute_result"
    }
   ],
   "source": [
    "defunciones['grupo_etario'].value_counts()"
   ]
  },
  {
   "cell_type": "code",
   "execution_count": 29,
   "id": "e7e50ae7-1755-4482-861f-40d2c50b15b6",
   "metadata": {},
   "outputs": [],
   "source": [
    "etario_08=defunciones[defunciones['grupo_etario'] == '08.sin especificar']['anio_def'].value_counts()"
   ]
  },
  {
   "cell_type": "code",
   "execution_count": 30,
   "id": "590f6714-8afc-486b-8985-0a0e59491cdc",
   "metadata": {},
   "outputs": [
    {
     "name": "stdout",
     "output_type": "stream",
     "text": [
      "2020    2949\n",
      "2019    2012\n",
      "2017    1942\n",
      "2018    1907\n",
      "2016    1784\n",
      "2021    1715\n",
      "2015    1698\n",
      "Name: anio_def, dtype: int64\n"
     ]
    }
   ],
   "source": [
    "print(etario_08)"
   ]
  },
  {
   "cell_type": "code",
   "execution_count": 31,
   "id": "c6290395-7c06-4eb3-914f-9a55e572fadf",
   "metadata": {},
   "outputs": [],
   "source": [
    "# Ver datos de la variable Causa de Defuncion"
   ]
  },
  {
   "cell_type": "code",
   "execution_count": 32,
   "id": "2ceefae9-2f0e-421d-a526-ae449585082a",
   "metadata": {},
   "outputs": [
    {
     "data": {
      "text/plain": [
       "0900 ENF  DEL SISTEMA CIRCULATORIO                                 692307\n",
       "0200 T MALIGNOS                                                    429719\n",
       "1000 ENF SISTEMA RESPIRATORIO                                      427872\n",
       "0100 CIERTAS ENF INFECCIOSAS Y PARASITARIAS                        236544\n",
       "1900 SIGNOS, SINTOMAS Y AFECCIONES MAL DEFINIDAS Y DESCONOCIDAS    156731\n",
       "1700 CAUSAS EXTERNAS                                               129363\n",
       "1800 DEMAS CAUSAS DEFINIDAS                                        123220\n",
       "1300 ENF  DEL SISTEMA URINARIO                                      92111\n",
       "0300 DIABETES MELLITUS                                              65723\n",
       "1200 ENF  DEL HIGADO                                                40021\n",
       "1500 AFECC  PERINATALES                                             21169\n",
       "0299 C IN SITU, TUM BEN  Y COMP INCIERTO                            19502\n",
       "0800 TRASTORNOS MENTALES Y DEL COMP                                 18839\n",
       "0500 TRAST METABOLICOS                                              15147\n",
       "1600 MALFORM  CONGENITAS, DEFORM  Y ANOM  CROMOSOMICAS              14894\n",
       "1100 APEND , HERNIA CAV  ABDOM Y OBSTR  INTEST                      13125\n",
       "0700 ENF  DE ALZHEIMER                                              10370\n",
       "0400 DEF  Y ANEMIAS NUTRICION                                        6012\n",
       "1400 EMBARAZO, PARTO Y PUERPERIO                                     2122\n",
       "0600 MENINGITIS                                                      1993\n",
       "Name: causa_defuncion, dtype: int64"
      ]
     },
     "execution_count": 32,
     "metadata": {},
     "output_type": "execute_result"
    }
   ],
   "source": [
    "defunciones['causa_defuncion'].value_counts()\n"
   ]
  },
  {
   "cell_type": "code",
   "execution_count": 33,
   "id": "241ff7de-9b04-499a-adec-a7fccc0041a9",
   "metadata": {},
   "outputs": [
    {
     "name": "stdout",
     "output_type": "stream",
     "text": [
      "0900 ENF  DEL SISTEMA CIRCULATORIO                                 692307\n",
      "0200 T MALIGNOS                                                    429719\n",
      "1000 ENF SISTEMA RESPIRATORIO                                      427872\n",
      "0100 CIERTAS ENF INFECCIOSAS Y PARASITARIAS                        236544\n",
      "1900 SIGNOS, SINTOMAS Y AFECCIONES MAL DEFINIDAS Y DESCONOCIDAS    156731\n",
      "Name: causa_defuncion, dtype: int64\n"
     ]
    }
   ],
   "source": [
    "top_causas=defunciones['causa_defuncion'].value_counts().head(5)\n",
    "print(top_causas)"
   ]
  },
  {
   "cell_type": "code",
   "execution_count": 34,
   "id": "6f247f6b-fd24-4255-bc34-ae353d5ca81a",
   "metadata": {},
   "outputs": [
    {
     "name": "stdout",
     "output_type": "stream",
     "text": [
      "La causa que registra mayor cantidad de defunciones corresponde a ENFERMEDADES DEL SISTEMA CIRCULATORIO con 692307 muertes\n"
     ]
    }
   ],
   "source": [
    "max_causa=defunciones['causa_defuncion'].value_counts().max()\n",
    "print( f\"La causa que registra mayor cantidad de defunciones corresponde a ENFERMEDADES DEL SISTEMA CIRCULATORIO con {max_causa} muertes\")"
   ]
  },
  {
   "cell_type": "code",
   "execution_count": 35,
   "id": "ac050153-39bd-403c-8b58-2fd2df0a5d17",
   "metadata": {},
   "outputs": [
    {
     "name": "stdout",
     "output_type": "stream",
     "text": [
      "1100 APEND , HERNIA CAV  ABDOM Y OBSTR  INTEST     13125\n",
      "0700 ENF  DE ALZHEIMER                             10370\n",
      "0400 DEF  Y ANEMIAS NUTRICION                       6012\n",
      "1400 EMBARAZO, PARTO Y PUERPERIO                    2122\n",
      "0600 MENINGITIS                                     1993\n",
      "Name: causa_defuncion, dtype: int64\n"
     ]
    }
   ],
   "source": [
    "top_min_causas=defunciones['causa_defuncion'].value_counts().tail(5)\n",
    "print(top_min_causas)"
   ]
  },
  {
   "cell_type": "code",
   "execution_count": 36,
   "id": "7e8740d9-505a-4b2d-aab4-0729aa578371",
   "metadata": {},
   "outputs": [
    {
     "name": "stdout",
     "output_type": "stream",
     "text": [
      "La causa que registra menor cantidad de defunciones corresponde a MENINGITIS con 1993 muertes\n"
     ]
    }
   ],
   "source": [
    "min_causas=defunciones['causa_defuncion'].value_counts().min()\n",
    "print( f\"La causa que registra menor cantidad de defunciones corresponde a MENINGITIS con {min_causas} muertes\")"
   ]
  },
  {
   "cell_type": "code",
   "execution_count": 37,
   "id": "2a6ac27f-1ed7-4a51-8980-fec8db4e44b2",
   "metadata": {},
   "outputs": [
    {
     "data": {
      "text/plain": [
       "grupo_etario         causa_defuncion                                       \n",
       "01.menor a 20 anios  1500 AFECC  PERINATALES                                   21169\n",
       "                     1700 CAUSAS EXTERNAS                                      16411\n",
       "                     1600 MALFORM  CONGENITAS, DEFORM  Y ANOM  CROMOSOMICAS    13566\n",
       "                     1000 ENF SISTEMA RESPIRATORIO                              5192\n",
       "                     1800 DEMAS CAUSAS DEFINIDAS                                4229\n",
       "                                                                               ...  \n",
       "08.sin especificar   0800 TRASTORNOS MENTALES Y DEL COMP                          60\n",
       "                     0400 DEF  Y ANEMIAS NUTRICION                                37\n",
       "                     0700 ENF  DE ALZHEIMER                                       32\n",
       "                     0600 MENINGITIS                                              13\n",
       "                     1600 MALFORM  CONGENITAS, DEFORM  Y ANOM  CROMOSOMICAS       12\n",
       "Name: causa_defuncion, Length: 149, dtype: int64"
      ]
     },
     "execution_count": 37,
     "metadata": {},
     "output_type": "execute_result"
    }
   ],
   "source": [
    "defunciones.groupby(['grupo_etario'])['causa_defuncion'].value_counts()"
   ]
  },
  {
   "cell_type": "code",
   "execution_count": 38,
   "id": "dd3f9551-615f-4b42-a49c-036fb316d799",
   "metadata": {},
   "outputs": [
    {
     "data": {
      "text/plain": [
       "anio_def  causa_defuncion                                                \n",
       "2015      0900 ENF  DEL SISTEMA CIRCULATORIO                                 96225\n",
       "          0200 T MALIGNOS                                                    62572\n",
       "          1000 ENF SISTEMA RESPIRATORIO                                      56954\n",
       "          1700 CAUSAS EXTERNAS                                               20377\n",
       "          1900 SIGNOS, SINTOMAS Y AFECCIONES MAL DEFINIDAS Y DESCONOCIDAS    19592\n",
       "                                                                             ...  \n",
       "2021      1600 MALFORM  CONGENITAS, DEFORM  Y ANOM  CROMOSOMICAS              1567\n",
       "          0700 ENF  DE ALZHEIMER                                              1489\n",
       "          0400 DEF  Y ANEMIAS NUTRICION                                        845\n",
       "          1400 EMBARAZO, PARTO Y PUERPERIO                                     475\n",
       "          0600 MENINGITIS                                                      238\n",
       "Name: causa_defuncion, Length: 140, dtype: int64"
      ]
     },
     "execution_count": 38,
     "metadata": {},
     "output_type": "execute_result"
    }
   ],
   "source": [
    "defunciones.groupby(['anio_def'])['causa_defuncion'].value_counts()"
   ]
  },
  {
   "cell_type": "code",
   "execution_count": 39,
   "id": "d6ec64a5-f299-464f-b8e9-80c1b07235b2",
   "metadata": {},
   "outputs": [
    {
     "data": {
      "text/plain": [
       "sexo_nombre        causa_defuncion                                       \n",
       "1.Varones          0900 ENF  DEL SISTEMA CIRCULATORIO                        343259\n",
       "                   0200 T MALIGNOS                                           220729\n",
       "                   1000 ENF SISTEMA RESPIRATORIO                             206773\n",
       "                   0100 CIERTAS ENF INFECCIOSAS Y PARASITARIAS               128180\n",
       "                   1700 CAUSAS EXTERNAS                                       95206\n",
       "                                                                              ...  \n",
       "9.Sin especificar  1500 AFECC  PERINATALES                                       28\n",
       "                   0400 DEF  Y ANEMIAS NUTRICION                                 27\n",
       "                   0700 ENF  DE ALZHEIMER                                        22\n",
       "                   1600 MALFORM  CONGENITAS, DEFORM  Y ANOM  CROMOSOMICAS        16\n",
       "                   0600 MENINGITIS                                                4\n",
       "Name: causa_defuncion, Length: 67, dtype: int64"
      ]
     },
     "execution_count": 39,
     "metadata": {},
     "output_type": "execute_result"
    }
   ],
   "source": [
    "defunciones.groupby(['sexo_nombre'])['causa_defuncion'].value_counts()"
   ]
  },
  {
   "cell_type": "code",
   "execution_count": 40,
   "id": "2a6bed22-face-4c26-88e4-a86e55d43344",
   "metadata": {},
   "outputs": [
    {
     "data": {
      "text/plain": [
       "anio_def  sexo_nombre      \n",
       "2015      1.Varones            171994\n",
       "          2.Mujeres            161267\n",
       "          9.Sin especificar       171\n",
       "          3.Ignorado               11\n",
       "2016      1.Varones            181053\n",
       "          2.Mujeres            171207\n",
       "          9.Sin especificar       215\n",
       "          3.Ignorado               31\n",
       "2017      1.Varones            174560\n",
       "          2.Mujeres            167054\n",
       "          9.Sin especificar       710\n",
       "          3.Ignorado               20\n",
       "2018      1.Varones            174327\n",
       "          2.Mujeres            162806\n",
       "          9.Sin especificar       458\n",
       "          3.Ignorado                9\n",
       "2019      1.Varones            173846\n",
       "          2.Mujeres            166009\n",
       "          9.Sin especificar      1195\n",
       "          3.Ignorado                7\n",
       "2020      1.Varones            196129\n",
       "          2.Mujeres            178259\n",
       "          9.Sin especificar      3201\n",
       "          3.Ignorado                3\n",
       "2021      1.Varones            224991\n",
       "          2.Mujeres            204527\n",
       "          9.Sin especificar      2707\n",
       "          3.Ignorado               17\n",
       "Name: sexo_nombre, dtype: int64"
      ]
     },
     "execution_count": 40,
     "metadata": {},
     "output_type": "execute_result"
    }
   ],
   "source": [
    "defunciones.groupby(['anio_def'])['sexo_nombre'].value_counts()"
   ]
  },
  {
   "cell_type": "code",
   "execution_count": 41,
   "id": "39799e3d-9dcd-4d57-8c9b-7911438f2964",
   "metadata": {},
   "outputs": [
    {
     "data": {
      "text/plain": [
       "region               sexo_nombre      \n",
       "1.Centro             1.Varones            886369\n",
       "                     2.Mujeres            870439\n",
       "                     9.Sin especificar      7718\n",
       "                     3.Ignorado               21\n",
       "10.sin especificar.  1.Varones              5705\n",
       "                     2.Mujeres              2969\n",
       "                     9.Sin especificar       521\n",
       "                     3.Ignorado                1\n",
       "2.NEA.               1.Varones            108239\n",
       "                     2.Mujeres             85638\n",
       "                     9.Sin especificar       218\n",
       "                     3.Ignorado               18\n",
       "3.NOA1.              1.Varones             52170\n",
       "                     2.Mujeres             42205\n",
       "                     9.Sin especificar        23\n",
       "                     3.Ignorado               22\n",
       "4.NOA.               1.Varones             44423\n",
       "                     2.Mujeres             38738\n",
       "                     9.Sin especificar        27\n",
       "                     3.Ignorado                4\n",
       "5.NOA2.              1.Varones             34984\n",
       "                     2.Mujeres             29011\n",
       "                     9.Sin especificar       106\n",
       "                     3.Ignorado                9\n",
       "6.Cuyo1              1.Varones             53995\n",
       "                     2.Mujeres             51350\n",
       "                     3.Ignorado               10\n",
       "                     9.Sin especificar         5\n",
       "7.Cuyo2.             1.Varones             42610\n",
       "                     2.Mujeres             37387\n",
       "                     9.Sin especificar        18\n",
       "                     3.Ignorado                7\n",
       "8.Pat. Norte.        1.Varones             44693\n",
       "                     2.Mujeres             35585\n",
       "                     9.Sin especificar        10\n",
       "                     3.Ignorado                4\n",
       "9.Pat.Sur.           1.Varones             23712\n",
       "                     2.Mujeres             17807\n",
       "                     9.Sin especificar        11\n",
       "                     3.Ignorado                2\n",
       "Name: sexo_nombre, dtype: int64"
      ]
     },
     "execution_count": 41,
     "metadata": {},
     "output_type": "execute_result"
    }
   ],
   "source": [
    "defunciones.groupby(['region'])['sexo_nombre'].value_counts()"
   ]
  },
  {
   "cell_type": "code",
   "execution_count": 42,
   "id": "d369fcc1-2116-490c-b041-c7c8562f2e17",
   "metadata": {},
   "outputs": [],
   "source": [
    "#porcentaje de defunciones segun causas"
   ]
  },
  {
   "cell_type": "code",
   "execution_count": 43,
   "id": "910d3323-4ed2-46ac-8845-32cc084c3a42",
   "metadata": {},
   "outputs": [
    {
     "data": {
      "text/plain": [
       "0900 ENF  DEL SISTEMA CIRCULATORIO                                 27.507605\n",
       "0200 T MALIGNOS                                                    17.074131\n",
       "1000 ENF SISTEMA RESPIRATORIO                                      17.000744\n",
       "0100 CIERTAS ENF INFECCIOSAS Y PARASITARIAS                         9.398661\n",
       "1900 SIGNOS, SINTOMAS Y AFECCIONES MAL DEFINIDAS Y DESCONOCIDAS     6.227432\n",
       "1700 CAUSAS EXTERNAS                                                5.140012\n",
       "1800 DEMAS CAUSAS DEFINIDAS                                         4.895931\n",
       "1300 ENF  DEL SISTEMA URINARIO                                      3.659869\n",
       "0300 DIABETES MELLITUS                                              2.611388\n",
       "1200 ENF  DEL HIGADO                                                1.590164\n",
       "1500 AFECC  PERINATALES                                             0.841113\n",
       "0299 C IN SITU, TUM BEN  Y COMP INCIERTO                            0.774878\n",
       "0800 TRASTORNOS MENTALES Y DEL COMP                                 0.748535\n",
       "0500 TRAST METABOLICOS                                              0.601839\n",
       "1600 MALFORM  CONGENITAS, DEFORM  Y ANOM  CROMOSOMICAS              0.591787\n",
       "1100 APEND , HERNIA CAV  ABDOM Y OBSTR  INTEST                      0.521499\n",
       "0700 ENF  DE ALZHEIMER                                              0.412034\n",
       "0400 DEF  Y ANEMIAS NUTRICION                                       0.238876\n",
       "1400 EMBARAZO, PARTO Y PUERPERIO                                    0.084314\n",
       "0600 MENINGITIS                                                     0.079188\n",
       "Name: causa_defuncion, dtype: float64"
      ]
     },
     "execution_count": 43,
     "metadata": {},
     "output_type": "execute_result"
    }
   ],
   "source": [
    "100 * defunciones['causa_defuncion'].value_counts() / len(defunciones['causa_defuncion'])"
   ]
  },
  {
   "cell_type": "code",
   "execution_count": 44,
   "id": "f72a3846-bfed-4a32-a733-bf0905467055",
   "metadata": {},
   "outputs": [],
   "source": [
    "#promedio de defunciones segun causas"
   ]
  },
  {
   "cell_type": "code",
   "execution_count": null,
   "id": "534498d0-3eeb-4bcd-ab99-f36592492b00",
   "metadata": {},
   "outputs": [],
   "source": [
    "cant_causas=defunciones['causa_defuncion'].value_counts()\n",
    "mean_causas=cant_causas.mean()\n",
    "print([mean_causas])\n"
   ]
  },
  {
   "cell_type": "code",
   "execution_count": null,
   "id": "7e1d4a32-296c-46f2-ba02-ed8eed58906f",
   "metadata": {},
   "outputs": [],
   "source": [
    "defunciones.groupby(['causa_defuncion']).mean()\n"
   ]
  },
  {
   "cell_type": "code",
   "execution_count": null,
   "id": "68b7662f-9372-4e53-ba4a-3ef824b28171",
   "metadata": {},
   "outputs": [],
   "source": [
    "#Causas por año"
   ]
  },
  {
   "cell_type": "code",
   "execution_count": 45,
   "id": "cdb1b9d3-0130-4356-84d0-947c4bcbe1c7",
   "metadata": {},
   "outputs": [
    {
     "data": {
      "text/html": [
       "<div>\n",
       "<style scoped>\n",
       "    .dataframe tbody tr th:only-of-type {\n",
       "        vertical-align: middle;\n",
       "    }\n",
       "\n",
       "    .dataframe tbody tr th {\n",
       "        vertical-align: top;\n",
       "    }\n",
       "\n",
       "    .dataframe thead th {\n",
       "        text-align: right;\n",
       "    }\n",
       "</style>\n",
       "<table border=\"1\" class=\"dataframe\">\n",
       "  <thead>\n",
       "    <tr style=\"text-align: right;\">\n",
       "      <th>causa_defuncion</th>\n",
       "      <th>0100 CIERTAS ENF INFECCIOSAS Y PARASITARIAS</th>\n",
       "      <th>0200 T MALIGNOS</th>\n",
       "      <th>0299 C IN SITU, TUM BEN  Y COMP INCIERTO</th>\n",
       "      <th>0300 DIABETES MELLITUS</th>\n",
       "      <th>0400 DEF  Y ANEMIAS NUTRICION</th>\n",
       "      <th>0500 TRAST METABOLICOS</th>\n",
       "      <th>0600 MENINGITIS</th>\n",
       "      <th>0700 ENF  DE ALZHEIMER</th>\n",
       "      <th>0800 TRASTORNOS MENTALES Y DEL COMP</th>\n",
       "      <th>0900 ENF  DEL SISTEMA CIRCULATORIO</th>\n",
       "      <th>...</th>\n",
       "      <th>1100 APEND , HERNIA CAV  ABDOM Y OBSTR  INTEST</th>\n",
       "      <th>1200 ENF  DEL HIGADO</th>\n",
       "      <th>1300 ENF  DEL SISTEMA URINARIO</th>\n",
       "      <th>1400 EMBARAZO, PARTO Y PUERPERIO</th>\n",
       "      <th>1500 AFECC  PERINATALES</th>\n",
       "      <th>1600 MALFORM  CONGENITAS, DEFORM  Y ANOM  CROMOSOMICAS</th>\n",
       "      <th>1700 CAUSAS EXTERNAS</th>\n",
       "      <th>1800 DEMAS CAUSAS DEFINIDAS</th>\n",
       "      <th>1900 SIGNOS, SINTOMAS Y AFECCIONES MAL DEFINIDAS Y DESCONOCIDAS</th>\n",
       "      <th>All</th>\n",
       "    </tr>\n",
       "    <tr>\n",
       "      <th>anio_def</th>\n",
       "      <th></th>\n",
       "      <th></th>\n",
       "      <th></th>\n",
       "      <th></th>\n",
       "      <th></th>\n",
       "      <th></th>\n",
       "      <th></th>\n",
       "      <th></th>\n",
       "      <th></th>\n",
       "      <th></th>\n",
       "      <th></th>\n",
       "      <th></th>\n",
       "      <th></th>\n",
       "      <th></th>\n",
       "      <th></th>\n",
       "      <th></th>\n",
       "      <th></th>\n",
       "      <th></th>\n",
       "      <th></th>\n",
       "      <th></th>\n",
       "      <th></th>\n",
       "    </tr>\n",
       "  </thead>\n",
       "  <tbody>\n",
       "    <tr>\n",
       "      <th>2015</th>\n",
       "      <td>13579</td>\n",
       "      <td>62572</td>\n",
       "      <td>2855</td>\n",
       "      <td>9231</td>\n",
       "      <td>974</td>\n",
       "      <td>2068</td>\n",
       "      <td>308</td>\n",
       "      <td>1425</td>\n",
       "      <td>2597</td>\n",
       "      <td>96225</td>\n",
       "      <td>...</td>\n",
       "      <td>2015</td>\n",
       "      <td>6065</td>\n",
       "      <td>12702</td>\n",
       "      <td>335</td>\n",
       "      <td>3725</td>\n",
       "      <td>2621</td>\n",
       "      <td>20377</td>\n",
       "      <td>17223</td>\n",
       "      <td>19592</td>\n",
       "      <td>333443</td>\n",
       "    </tr>\n",
       "    <tr>\n",
       "      <th>2016</th>\n",
       "      <td>13880</td>\n",
       "      <td>62633</td>\n",
       "      <td>3083</td>\n",
       "      <td>9574</td>\n",
       "      <td>944</td>\n",
       "      <td>2368</td>\n",
       "      <td>332</td>\n",
       "      <td>1703</td>\n",
       "      <td>2868</td>\n",
       "      <td>101811</td>\n",
       "      <td>...</td>\n",
       "      <td>2027</td>\n",
       "      <td>6284</td>\n",
       "      <td>13127</td>\n",
       "      <td>287</td>\n",
       "      <td>3480</td>\n",
       "      <td>2471</td>\n",
       "      <td>19399</td>\n",
       "      <td>18486</td>\n",
       "      <td>22664</td>\n",
       "      <td>352506</td>\n",
       "    </tr>\n",
       "    <tr>\n",
       "      <th>2017</th>\n",
       "      <td>14232</td>\n",
       "      <td>62767</td>\n",
       "      <td>2767</td>\n",
       "      <td>8904</td>\n",
       "      <td>872</td>\n",
       "      <td>2336</td>\n",
       "      <td>297</td>\n",
       "      <td>1469</td>\n",
       "      <td>2302</td>\n",
       "      <td>97400</td>\n",
       "      <td>...</td>\n",
       "      <td>1901</td>\n",
       "      <td>5572</td>\n",
       "      <td>12931</td>\n",
       "      <td>246</td>\n",
       "      <td>3393</td>\n",
       "      <td>2365</td>\n",
       "      <td>19518</td>\n",
       "      <td>17501</td>\n",
       "      <td>20572</td>\n",
       "      <td>342344</td>\n",
       "    </tr>\n",
       "    <tr>\n",
       "      <th>2018</th>\n",
       "      <td>14014</td>\n",
       "      <td>61332</td>\n",
       "      <td>2807</td>\n",
       "      <td>9099</td>\n",
       "      <td>787</td>\n",
       "      <td>2195</td>\n",
       "      <td>281</td>\n",
       "      <td>1337</td>\n",
       "      <td>2911</td>\n",
       "      <td>95963</td>\n",
       "      <td>...</td>\n",
       "      <td>1867</td>\n",
       "      <td>5551</td>\n",
       "      <td>13354</td>\n",
       "      <td>295</td>\n",
       "      <td>3040</td>\n",
       "      <td>2191</td>\n",
       "      <td>19480</td>\n",
       "      <td>17400</td>\n",
       "      <td>21940</td>\n",
       "      <td>337600</td>\n",
       "    </tr>\n",
       "    <tr>\n",
       "      <th>2019</th>\n",
       "      <td>14541</td>\n",
       "      <td>62002</td>\n",
       "      <td>2827</td>\n",
       "      <td>9209</td>\n",
       "      <td>844</td>\n",
       "      <td>2301</td>\n",
       "      <td>328</td>\n",
       "      <td>1411</td>\n",
       "      <td>3151</td>\n",
       "      <td>97183</td>\n",
       "      <td>...</td>\n",
       "      <td>1786</td>\n",
       "      <td>5406</td>\n",
       "      <td>13629</td>\n",
       "      <td>229</td>\n",
       "      <td>2873</td>\n",
       "      <td>2078</td>\n",
       "      <td>18160</td>\n",
       "      <td>17955</td>\n",
       "      <td>23221</td>\n",
       "      <td>341057</td>\n",
       "    </tr>\n",
       "    <tr>\n",
       "      <th>2020</th>\n",
       "      <td>66672</td>\n",
       "      <td>59242</td>\n",
       "      <td>2559</td>\n",
       "      <td>9937</td>\n",
       "      <td>746</td>\n",
       "      <td>1846</td>\n",
       "      <td>209</td>\n",
       "      <td>1536</td>\n",
       "      <td>2500</td>\n",
       "      <td>97584</td>\n",
       "      <td>...</td>\n",
       "      <td>1770</td>\n",
       "      <td>5350</td>\n",
       "      <td>12343</td>\n",
       "      <td>255</td>\n",
       "      <td>2434</td>\n",
       "      <td>1601</td>\n",
       "      <td>15783</td>\n",
       "      <td>16787</td>\n",
       "      <td>23678</td>\n",
       "      <td>377592</td>\n",
       "    </tr>\n",
       "    <tr>\n",
       "      <th>2021</th>\n",
       "      <td>99626</td>\n",
       "      <td>59171</td>\n",
       "      <td>2604</td>\n",
       "      <td>9769</td>\n",
       "      <td>845</td>\n",
       "      <td>2033</td>\n",
       "      <td>238</td>\n",
       "      <td>1489</td>\n",
       "      <td>2510</td>\n",
       "      <td>106141</td>\n",
       "      <td>...</td>\n",
       "      <td>1759</td>\n",
       "      <td>5793</td>\n",
       "      <td>14025</td>\n",
       "      <td>475</td>\n",
       "      <td>2224</td>\n",
       "      <td>1567</td>\n",
       "      <td>16646</td>\n",
       "      <td>17868</td>\n",
       "      <td>25064</td>\n",
       "      <td>432242</td>\n",
       "    </tr>\n",
       "    <tr>\n",
       "      <th>All</th>\n",
       "      <td>236544</td>\n",
       "      <td>429719</td>\n",
       "      <td>19502</td>\n",
       "      <td>65723</td>\n",
       "      <td>6012</td>\n",
       "      <td>15147</td>\n",
       "      <td>1993</td>\n",
       "      <td>10370</td>\n",
       "      <td>18839</td>\n",
       "      <td>692307</td>\n",
       "      <td>...</td>\n",
       "      <td>13125</td>\n",
       "      <td>40021</td>\n",
       "      <td>92111</td>\n",
       "      <td>2122</td>\n",
       "      <td>21169</td>\n",
       "      <td>14894</td>\n",
       "      <td>129363</td>\n",
       "      <td>123220</td>\n",
       "      <td>156731</td>\n",
       "      <td>2516784</td>\n",
       "    </tr>\n",
       "  </tbody>\n",
       "</table>\n",
       "<p>8 rows × 21 columns</p>\n",
       "</div>"
      ],
      "text/plain": [
       "causa_defuncion  0100 CIERTAS ENF INFECCIOSAS Y PARASITARIAS  0200 T MALIGNOS  \\\n",
       "anio_def                                                                        \n",
       "2015                                                   13579            62572   \n",
       "2016                                                   13880            62633   \n",
       "2017                                                   14232            62767   \n",
       "2018                                                   14014            61332   \n",
       "2019                                                   14541            62002   \n",
       "2020                                                   66672            59242   \n",
       "2021                                                   99626            59171   \n",
       "All                                                   236544           429719   \n",
       "\n",
       "causa_defuncion  0299 C IN SITU, TUM BEN  Y COMP INCIERTO  \\\n",
       "anio_def                                                    \n",
       "2015                                                 2855   \n",
       "2016                                                 3083   \n",
       "2017                                                 2767   \n",
       "2018                                                 2807   \n",
       "2019                                                 2827   \n",
       "2020                                                 2559   \n",
       "2021                                                 2604   \n",
       "All                                                 19502   \n",
       "\n",
       "causa_defuncion  0300 DIABETES MELLITUS  0400 DEF  Y ANEMIAS NUTRICION  \\\n",
       "anio_def                                                                 \n",
       "2015                               9231                            974   \n",
       "2016                               9574                            944   \n",
       "2017                               8904                            872   \n",
       "2018                               9099                            787   \n",
       "2019                               9209                            844   \n",
       "2020                               9937                            746   \n",
       "2021                               9769                            845   \n",
       "All                               65723                           6012   \n",
       "\n",
       "causa_defuncion  0500 TRAST METABOLICOS  0600 MENINGITIS  \\\n",
       "anio_def                                                   \n",
       "2015                               2068              308   \n",
       "2016                               2368              332   \n",
       "2017                               2336              297   \n",
       "2018                               2195              281   \n",
       "2019                               2301              328   \n",
       "2020                               1846              209   \n",
       "2021                               2033              238   \n",
       "All                               15147             1993   \n",
       "\n",
       "causa_defuncion  0700 ENF  DE ALZHEIMER  0800 TRASTORNOS MENTALES Y DEL COMP  \\\n",
       "anio_def                                                                       \n",
       "2015                               1425                                 2597   \n",
       "2016                               1703                                 2868   \n",
       "2017                               1469                                 2302   \n",
       "2018                               1337                                 2911   \n",
       "2019                               1411                                 3151   \n",
       "2020                               1536                                 2500   \n",
       "2021                               1489                                 2510   \n",
       "All                               10370                                18839   \n",
       "\n",
       "causa_defuncion  0900 ENF  DEL SISTEMA CIRCULATORIO  ...  \\\n",
       "anio_def                                             ...   \n",
       "2015                                          96225  ...   \n",
       "2016                                         101811  ...   \n",
       "2017                                          97400  ...   \n",
       "2018                                          95963  ...   \n",
       "2019                                          97183  ...   \n",
       "2020                                          97584  ...   \n",
       "2021                                         106141  ...   \n",
       "All                                          692307  ...   \n",
       "\n",
       "causa_defuncion  1100 APEND , HERNIA CAV  ABDOM Y OBSTR  INTEST   \\\n",
       "anio_def                                                           \n",
       "2015                                                        2015   \n",
       "2016                                                        2027   \n",
       "2017                                                        1901   \n",
       "2018                                                        1867   \n",
       "2019                                                        1786   \n",
       "2020                                                        1770   \n",
       "2021                                                        1759   \n",
       "All                                                        13125   \n",
       "\n",
       "causa_defuncion  1200 ENF  DEL HIGADO  1300 ENF  DEL SISTEMA URINARIO  \\\n",
       "anio_def                                                                \n",
       "2015                             6065                           12702   \n",
       "2016                             6284                           13127   \n",
       "2017                             5572                           12931   \n",
       "2018                             5551                           13354   \n",
       "2019                             5406                           13629   \n",
       "2020                             5350                           12343   \n",
       "2021                             5793                           14025   \n",
       "All                             40021                           92111   \n",
       "\n",
       "causa_defuncion  1400 EMBARAZO, PARTO Y PUERPERIO  1500 AFECC  PERINATALES  \\\n",
       "anio_def                                                                     \n",
       "2015                                          335                     3725   \n",
       "2016                                          287                     3480   \n",
       "2017                                          246                     3393   \n",
       "2018                                          295                     3040   \n",
       "2019                                          229                     2873   \n",
       "2020                                          255                     2434   \n",
       "2021                                          475                     2224   \n",
       "All                                          2122                    21169   \n",
       "\n",
       "causa_defuncion  1600 MALFORM  CONGENITAS, DEFORM  Y ANOM  CROMOSOMICAS  \\\n",
       "anio_def                                                                  \n",
       "2015                                                          2621        \n",
       "2016                                                          2471        \n",
       "2017                                                          2365        \n",
       "2018                                                          2191        \n",
       "2019                                                          2078        \n",
       "2020                                                          1601        \n",
       "2021                                                          1567        \n",
       "All                                                          14894        \n",
       "\n",
       "causa_defuncion  1700 CAUSAS EXTERNAS  1800 DEMAS CAUSAS DEFINIDAS  \\\n",
       "anio_def                                                             \n",
       "2015                            20377                        17223   \n",
       "2016                            19399                        18486   \n",
       "2017                            19518                        17501   \n",
       "2018                            19480                        17400   \n",
       "2019                            18160                        17955   \n",
       "2020                            15783                        16787   \n",
       "2021                            16646                        17868   \n",
       "All                            129363                       123220   \n",
       "\n",
       "causa_defuncion  1900 SIGNOS, SINTOMAS Y AFECCIONES MAL DEFINIDAS Y DESCONOCIDAS  \\\n",
       "anio_def                                                                           \n",
       "2015                                                         19592                 \n",
       "2016                                                         22664                 \n",
       "2017                                                         20572                 \n",
       "2018                                                         21940                 \n",
       "2019                                                         23221                 \n",
       "2020                                                         23678                 \n",
       "2021                                                         25064                 \n",
       "All                                                         156731                 \n",
       "\n",
       "causa_defuncion      All  \n",
       "anio_def                  \n",
       "2015              333443  \n",
       "2016              352506  \n",
       "2017              342344  \n",
       "2018              337600  \n",
       "2019              341057  \n",
       "2020              377592  \n",
       "2021              432242  \n",
       "All              2516784  \n",
       "\n",
       "[8 rows x 21 columns]"
      ]
     },
     "execution_count": 45,
     "metadata": {},
     "output_type": "execute_result"
    }
   ],
   "source": [
    "pd.crosstab(index=defunciones['anio_def'],\n",
    "            columns=defunciones['causa_defuncion'], margins=True)"
   ]
  },
  {
   "cell_type": "code",
   "execution_count": null,
   "id": "e8da591f-dcac-4573-b2ed-ccbaff85837b",
   "metadata": {},
   "outputs": [],
   "source": [
    "# Filtro las columnas para mostrar solo las filas que tengan valor\n",
    "# igual al minimo   ver años superior al promedio"
   ]
  },
  {
   "cell_type": "code",
   "execution_count": null,
   "id": "efd32396-1e3a-4ed4-b5a3-41f986b30e4a",
   "metadata": {},
   "outputs": [],
   "source": [
    "\n",
    "filtro_min_lexp_country = df[df['life_expectancy'] == p_min_life_expectancy] ['Country']\n",
    "                  \n",
    "print(filtro_min_lexp_country)"
   ]
  },
  {
   "cell_type": "code",
   "execution_count": null,
   "id": "deed2bf8-23e4-42c0-b526-8f98d06d02c2",
   "metadata": {},
   "outputs": [],
   "source": [
    "#VEEEER Graficos"
   ]
  },
  {
   "cell_type": "code",
   "execution_count": null,
   "id": "b5c50e92-cb17-418d-9bf8-7299aef7d15a",
   "metadata": {},
   "outputs": [],
   "source": [
    "# Daniela: label encoder region\n",
    "# binding y analisis de datos: niños, adultos, ancianos, graficos causas por edad"
   ]
  },
  {
   "cell_type": "code",
   "execution_count": null,
   "id": "41e9dab1",
   "metadata": {},
   "outputs": [],
   "source": [
    "print (defunciones.grupo_etario.min)\n",
    "print (defunciones.grupo_etario.max)"
   ]
  },
  {
   "cell_type": "code",
   "execution_count": null,
   "id": "58a6306e",
   "metadata": {},
   "outputs": [],
   "source": [
    "conteo_causas = defunciones['causa_defuncion'].value_counts()"
   ]
  },
  {
   "cell_type": "code",
   "execution_count": null,
   "id": "d6391be4",
   "metadata": {},
   "outputs": [],
   "source": [
    "causas_mayores = conteo_causas.head(10)"
   ]
  },
  {
   "cell_type": "code",
   "execution_count": 52,
   "id": "35bc6f22",
   "metadata": {},
   "outputs": [
    {
     "name": "stdout",
     "output_type": "stream",
     "text": [
      "0900 ENF  DEL SISTEMA CIRCULATORIO                                 692307\n",
      "0200 T MALIGNOS                                                    429719\n",
      "1000 ENF SISTEMA RESPIRATORIO                                      427872\n",
      "0100 CIERTAS ENF INFECCIOSAS Y PARASITARIAS                        236544\n",
      "1900 SIGNOS, SINTOMAS Y AFECCIONES MAL DEFINIDAS Y DESCONOCIDAS    156731\n",
      "1700 CAUSAS EXTERNAS                                               129363\n",
      "1800 DEMAS CAUSAS DEFINIDAS                                        123220\n",
      "1300 ENF  DEL SISTEMA URINARIO                                      92111\n",
      "0300 DIABETES MELLITUS                                              65723\n",
      "1200 ENF  DEL HIGADO                                                40021\n",
      "Name: causa_defuncion, dtype: int64\n"
     ]
    }
   ],
   "source": [
    "print(causas_mayores)"
   ]
  },
  {
   "cell_type": "code",
   "execution_count": 53,
   "id": "5a77490a",
   "metadata": {},
   "outputs": [
    {
     "data": {
      "image/png": "[encoded data removed]",
      "text/plain": [
       "<Figure size 1000x600 with 1 Axes>"
      ]
     },
     "metadata": {},
     "output_type": "display_data"
    }
   ],
   "source": [
    "plt.figure(figsize=(10, 6))\n",
    "sns.barplot(x=causas_mayores.index, y=causas_mayores.values)\n",
    "plt.xlabel(\"Causa de defunción\")\n",
    "plt.ylabel(\"Número de defunciones\")\n",
    "plt.title(\"Mayores causas de defunciónes\")\n",
    "plt.xticks(rotation=40)\n",
    "plt.show()"
   ]
  },
  {
   "cell_type": "code",
   "execution_count": 54,
   "id": "6cd0c534",
   "metadata": {},
   "outputs": [],
   "source": [
    "encoder = LabelEncoder()"
   ]
  },
  {
   "cell_type": "code",
   "execution_count": 55,
   "id": "ce582a47",
   "metadata": {},
   "outputs": [],
   "source": [
    "defunciones['region_encod'] = encoder.fit_transform(defunciones['region'])"
   ]
  },
  {
   "cell_type": "code",
   "execution_count": 56,
   "id": "3bccce66",
   "metadata": {},
   "outputs": [
    {
     "name": "stdout",
     "output_type": "stream",
     "text": [
      "     region  region_encod\n",
      "0  1.Centro             0\n",
      "1  1.Centro             0\n",
      "2  1.Centro             0\n",
      "3  1.Centro             0\n",
      "4  1.Centro             0\n"
     ]
    }
   ],
   "source": [
    "print(defunciones[['region', 'region_encod']].head())"
   ]
  },
  {
   "cell_type": "code",
   "execution_count": 58,
   "id": "0be47937",
   "metadata": {},
   "outputs": [
    {
     "ename": "KeyError",
     "evalue": "'grupo_etario_binning'",
     "output_type": "error",
     "traceback": [
      "\u001b[1;31m---------------------------------------------------------------------------\u001b[0m",
      "\u001b[1;31mKeyError\u001b[0m                                  Traceback (most recent call last)",
      "File \u001b[1;32m~\\anaconda3\\lib\\site-packages\\pandas\\core\\indexes\\base.py:3802\u001b[0m, in \u001b[0;36mIndex.get_loc\u001b[1;34m(self, key, method, tolerance)\u001b[0m\n\u001b[0;32m   3801\u001b[0m \u001b[38;5;28;01mtry\u001b[39;00m:\n\u001b[1;32m-> 3802\u001b[0m     \u001b[38;5;28;01mreturn\u001b[39;00m \u001b[38;5;28;43mself\u001b[39;49m\u001b[38;5;241;43m.\u001b[39;49m\u001b[43m_engine\u001b[49m\u001b[38;5;241;43m.\u001b[39;49m\u001b[43mget_loc\u001b[49m\u001b[43m(\u001b[49m\u001b[43mcasted_key\u001b[49m\u001b[43m)\u001b[49m\n\u001b[0;32m   3803\u001b[0m \u001b[38;5;28;01mexcept\u001b[39;00m \u001b[38;5;167;01mKeyError\u001b[39;00m \u001b[38;5;28;01mas\u001b[39;00m err:\n",
      "File \u001b[1;32m~\\anaconda3\\lib\\site-packages\\pandas\\_libs\\index.pyx:138\u001b[0m, in \u001b[0;36mpandas._libs.index.IndexEngine.get_loc\u001b[1;34m()\u001b[0m\n",
      "File \u001b[1;32m~\\anaconda3\\lib\\site-packages\\pandas\\_libs\\index.pyx:165\u001b[0m, in \u001b[0;36mpandas._libs.index.IndexEngine.get_loc\u001b[1;34m()\u001b[0m\n",
      "File \u001b[1;32mpandas\\_libs\\hashtable_class_helper.pxi:5745\u001b[0m, in \u001b[0;36mpandas._libs.hashtable.PyObjectHashTable.get_item\u001b[1;34m()\u001b[0m\n",
      "File \u001b[1;32mpandas\\_libs\\hashtable_class_helper.pxi:5753\u001b[0m, in \u001b[0;36mpandas._libs.hashtable.PyObjectHashTable.get_item\u001b[1;34m()\u001b[0m\n",
      "\u001b[1;31mKeyError\u001b[0m: 'grupo_etario_binning'",
      "\nThe above exception was the direct cause of the following exception:\n",
      "\u001b[1;31mKeyError\u001b[0m                                  Traceback (most recent call last)",
      "Cell \u001b[1;32mIn[58], line 1\u001b[0m\n\u001b[1;32m----> 1\u001b[0m grupo_etario_counts \u001b[38;5;241m=\u001b[39m \u001b[43mdefunciones\u001b[49m\u001b[43m[\u001b[49m\u001b[38;5;124;43m'\u001b[39;49m\u001b[38;5;124;43mgrupo_etario_binning\u001b[39;49m\u001b[38;5;124;43m'\u001b[39;49m\u001b[43m]\u001b[49m\u001b[38;5;241m.\u001b[39mvalue_counts()\u001b[38;5;241m.\u001b[39msort_index()\n",
      "File \u001b[1;32m~\\anaconda3\\lib\\site-packages\\pandas\\core\\frame.py:3807\u001b[0m, in \u001b[0;36mDataFrame.__getitem__\u001b[1;34m(self, key)\u001b[0m\n\u001b[0;32m   3805\u001b[0m \u001b[38;5;28;01mif\u001b[39;00m \u001b[38;5;28mself\u001b[39m\u001b[38;5;241m.\u001b[39mcolumns\u001b[38;5;241m.\u001b[39mnlevels \u001b[38;5;241m>\u001b[39m \u001b[38;5;241m1\u001b[39m:\n\u001b[0;32m   3806\u001b[0m     \u001b[38;5;28;01mreturn\u001b[39;00m \u001b[38;5;28mself\u001b[39m\u001b[38;5;241m.\u001b[39m_getitem_multilevel(key)\n\u001b[1;32m-> 3807\u001b[0m indexer \u001b[38;5;241m=\u001b[39m \u001b[38;5;28;43mself\u001b[39;49m\u001b[38;5;241;43m.\u001b[39;49m\u001b[43mcolumns\u001b[49m\u001b[38;5;241;43m.\u001b[39;49m\u001b[43mget_loc\u001b[49m\u001b[43m(\u001b[49m\u001b[43mkey\u001b[49m\u001b[43m)\u001b[49m\n\u001b[0;32m   3808\u001b[0m \u001b[38;5;28;01mif\u001b[39;00m is_integer(indexer):\n\u001b[0;32m   3809\u001b[0m     indexer \u001b[38;5;241m=\u001b[39m [indexer]\n",
      "File \u001b[1;32m~\\anaconda3\\lib\\site-packages\\pandas\\core\\indexes\\base.py:3804\u001b[0m, in \u001b[0;36mIndex.get_loc\u001b[1;34m(self, key, method, tolerance)\u001b[0m\n\u001b[0;32m   3802\u001b[0m     \u001b[38;5;28;01mreturn\u001b[39;00m \u001b[38;5;28mself\u001b[39m\u001b[38;5;241m.\u001b[39m_engine\u001b[38;5;241m.\u001b[39mget_loc(casted_key)\n\u001b[0;32m   3803\u001b[0m \u001b[38;5;28;01mexcept\u001b[39;00m \u001b[38;5;167;01mKeyError\u001b[39;00m \u001b[38;5;28;01mas\u001b[39;00m err:\n\u001b[1;32m-> 3804\u001b[0m     \u001b[38;5;28;01mraise\u001b[39;00m \u001b[38;5;167;01mKeyError\u001b[39;00m(key) \u001b[38;5;28;01mfrom\u001b[39;00m \u001b[38;5;21;01merr\u001b[39;00m\n\u001b[0;32m   3805\u001b[0m \u001b[38;5;28;01mexcept\u001b[39;00m \u001b[38;5;167;01mTypeError\u001b[39;00m:\n\u001b[0;32m   3806\u001b[0m     \u001b[38;5;66;03m# If we have a listlike key, _check_indexing_error will raise\u001b[39;00m\n\u001b[0;32m   3807\u001b[0m     \u001b[38;5;66;03m#  InvalidIndexError. Otherwise we fall through and re-raise\u001b[39;00m\n\u001b[0;32m   3808\u001b[0m     \u001b[38;5;66;03m#  the TypeError.\u001b[39;00m\n\u001b[0;32m   3809\u001b[0m     \u001b[38;5;28mself\u001b[39m\u001b[38;5;241m.\u001b[39m_check_indexing_error(key)\n",
      "\u001b[1;31mKeyError\u001b[0m: 'grupo_etario_binning'"
     ]
    }
   ],
   "source": [
    "grupo_etario_counts = defunciones['grupo_etario_binning'].value_counts().sort_index()"
   ]
  },
  {
   "cell_type": "code",
   "execution_count": 60,
   "id": "093c42a1",
   "metadata": {},
   "outputs": [
    {
     "ename": "NameError",
     "evalue": "name 'grupo_etario_counts' is not defined",
     "output_type": "error",
     "traceback": [
      "\u001b[1;31m---------------------------------------------------------------------------\u001b[0m",
      "\u001b[1;31mNameError\u001b[0m                                 Traceback (most recent call last)",
      "Cell \u001b[1;32mIn[60], line 2\u001b[0m\n\u001b[0;32m      1\u001b[0m plt\u001b[38;5;241m.\u001b[39mfigure(figsize\u001b[38;5;241m=\u001b[39m(\u001b[38;5;241m10\u001b[39m, \u001b[38;5;241m6\u001b[39m))\n\u001b[1;32m----> 2\u001b[0m \u001b[43mgrupo_etario_counts\u001b[49m\u001b[38;5;241m.\u001b[39mplot(kind\u001b[38;5;241m=\u001b[39m\u001b[38;5;124m'\u001b[39m\u001b[38;5;124mbar\u001b[39m\u001b[38;5;124m'\u001b[39m, color\u001b[38;5;241m=\u001b[39m\u001b[38;5;124m'\u001b[39m\u001b[38;5;124mskyblue\u001b[39m\u001b[38;5;124m'\u001b[39m)\n\u001b[0;32m      3\u001b[0m plt\u001b[38;5;241m.\u001b[39mtitle(\u001b[38;5;124m'\u001b[39m\u001b[38;5;124mDistribución de Defunciones por Grupo Etario\u001b[39m\u001b[38;5;124m'\u001b[39m)\n\u001b[0;32m      4\u001b[0m plt\u001b[38;5;241m.\u001b[39mxlabel(\u001b[38;5;124m'\u001b[39m\u001b[38;5;124mGrupo Etario\u001b[39m\u001b[38;5;124m'\u001b[39m)\n",
      "\u001b[1;31mNameError\u001b[0m: name 'grupo_etario_counts' is not defined"
     ]
    },
    {
     "data": {
      "text/plain": [
       "<Figure size 1000x600 with 0 Axes>"
      ]
     },
     "metadata": {},
     "output_type": "display_data"
    }
   ],
   "source": [
    "plt.figure(figsize=(10, 6))\n",
    "grupo_etario_counts.plot(kind='bar', color='skyblue')\n",
    "plt.title('Distribución de Defunciones por Grupo Etario')\n",
    "plt.xlabel('Grupo Etario')\n",
    "plt.ylabel('Número de Defunciones')\n",
    "plt.xticks(rotation=45)\n",
    "plt.show()"
   ]
  },
  {
   "cell_type": "code",
   "execution_count": null,
   "id": "74d5b3f8",
   "metadata": {},
   "outputs": [],
   "source": [
    "# Cande: graficos distribución de datos, (outliers?)\n",
    "#¿Hay correlación entre features?\n"
   ]
  },
  {
   "cell_type": "code",
   "execution_count": 7,
   "id": "268b757e-a6a2-4711-8d00-b2f6cc7cd51e",
   "metadata": {},
   "outputs": [],
   "source": [
    "# Clara: armar repo ok\n",
    "# renombrar columna, ok\n",
    "# minimos y maximos de causas, años, sexo, ragos etarios, region\n",
    "#graficos de analisis de causas en gral y causas por region (categorías principales?)"
   ]
  },
  {
   "cell_type": "markdown",
   "id": "2febb0cf-8a2d-44f9-816a-20e0301db79e",
   "metadata": {},
   "source": [
    "#PREGUNTAR: Analisis de correlacion entre variables?\n",
    "#Redactar conclusión?"
   ]
  },
  {
   "cell_type": "code",
   "execution_count": null,
   "id": "12aca555-a438-4994-a8ba-7f05b919db04",
   "metadata": {},
   "outputs": [],
   "source": []
  }
 ],
 "metadata": {
  "kernelspec": {
   "display_name": "Python 3 (ipykernel)",
   "language": "python",
   "name": "python3"
  },
  "language_info": {
   "codemirror_mode": {
    "name": "ipython",
    "version": 3
   },
   "file_extension": ".py",
   "mimetype": "text/x-python",
   "name": "python",
   "nbconvert_exporter": "python",
   "pygments_lexer": "ipython3",
   "version": "3.10.9"
  }
 },
 "nbformat": 4,
 "nbformat_minor": 5
}

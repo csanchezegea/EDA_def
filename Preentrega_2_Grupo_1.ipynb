{
 "cells": [
  {
   "cell_type": "markdown",
   "id": "00388cfc",
   "metadata": {},
   "source": [
    "# Notebook Prentrega 2 del Grupo 1\n",
    "\n",
    "                                    Tema: Defunciones en Argentina\n",
    "\n",
    "Integrantes del Grupo: - Antonella Arcuri\n",
    "                       - Daniela Araujo\n",
    "                       - Maria Candela Herrera\n",
    "                       - Ana Clara Sanchez\n",
    "Dataset obtenido de: http://datos.salud.gob.ar/dataset/datos-salud-gob-ar-dataset-defunciones-mensuales-ocurridas-en-la-republica-argentina\n",
    "\n",
    "Tipo de archivo: csv\n",
    "\n",
    "Objetivo planteado: ¡?¡?¡?¡?¡?¡?¡?¡ A DEFINIR ?¡?¡?¡?¡?¡?¡?"
   ]
  },
  {
   "cell_type": "code",
   "execution_count": 239,
   "id": "85511014",
   "metadata": {},
   "outputs": [],
   "source": [
    "# Importar librerias a utilizar\n",
    "import pandas as pd\n",
    "import numpy as np\n",
    "import matplotlib.pyplot as plt\n",
    "import seaborn as sns\n",
    "from scipy import stats\n",
    "from sklearn.preprocessing import LabelEncoder"
   ]
  },
  {
   "cell_type": "code",
   "execution_count": 240,
   "id": "0e2aedc5",
   "metadata": {},
   "outputs": [],
   "source": [
    "#Leer archivo del data set\n",
    "defunciones = pd.read_csv('C:/Users/homea/OneDrive/Documentos/Python Scripts/DATA_SCIENCE/arg_def_15_21.csv')"
   ]
  },
  {
   "cell_type": "code",
   "execution_count": 241,
   "id": "023edc91",
   "metadata": {},
   "outputs": [
    {
     "data": {
      "text/html": [
       "<div>\n",
       "<style scoped>\n",
       "    .dataframe tbody tr th:only-of-type {\n",
       "        vertical-align: middle;\n",
       "    }\n",
       "\n",
       "    .dataframe tbody tr th {\n",
       "        vertical-align: top;\n",
       "    }\n",
       "\n",
       "    .dataframe thead th {\n",
       "        text-align: right;\n",
       "    }\n",
       "</style>\n",
       "<table border=\"1\" class=\"dataframe\">\n",
       "  <thead>\n",
       "    <tr style=\"text-align: right;\">\n",
       "      <th></th>\n",
       "      <th>region</th>\n",
       "      <th>jurisdiccion</th>\n",
       "      <th>mes_anio_defuncion</th>\n",
       "      <th>mes_def</th>\n",
       "      <th>anio_def</th>\n",
       "      <th>sexo_id</th>\n",
       "      <th>sexo_nombre</th>\n",
       "      <th>grupo_etario</th>\n",
       "      <th>grupo_causa_defuncion_CIE10</th>\n",
       "      <th>cod_causa_muerte_CIE10</th>\n",
       "      <th>cantidad</th>\n",
       "    </tr>\n",
       "  </thead>\n",
       "  <tbody>\n",
       "    <tr>\n",
       "      <th>0</th>\n",
       "      <td>1.Centro</td>\n",
       "      <td>6.Prov. Bs.As.</td>\n",
       "      <td>09/2015</td>\n",
       "      <td>9</td>\n",
       "      <td>2015</td>\n",
       "      <td>1</td>\n",
       "      <td>1.Varones</td>\n",
       "      <td>01.menor a 20 anios</td>\n",
       "      <td>1500 AFECC  PERINATALES</td>\n",
       "      <td>P21</td>\n",
       "      <td>1</td>\n",
       "    </tr>\n",
       "    <tr>\n",
       "      <th>1</th>\n",
       "      <td>1.Centro</td>\n",
       "      <td>6.Prov. Bs.As.</td>\n",
       "      <td>09/2015</td>\n",
       "      <td>9</td>\n",
       "      <td>2015</td>\n",
       "      <td>1</td>\n",
       "      <td>1.Varones</td>\n",
       "      <td>01.menor a 20 anios</td>\n",
       "      <td>1600 MALFORM  CONGENITAS, DEFORM  Y ANOM  CROM...</td>\n",
       "      <td>Q60</td>\n",
       "      <td>1</td>\n",
       "    </tr>\n",
       "    <tr>\n",
       "      <th>2</th>\n",
       "      <td>1.Centro</td>\n",
       "      <td>6.Prov. Bs.As.</td>\n",
       "      <td>08/2015</td>\n",
       "      <td>8</td>\n",
       "      <td>2015</td>\n",
       "      <td>1</td>\n",
       "      <td>1.Varones</td>\n",
       "      <td>01.menor a 20 anios</td>\n",
       "      <td>1600 MALFORM  CONGENITAS, DEFORM  Y ANOM  CROM...</td>\n",
       "      <td>Q24</td>\n",
       "      <td>1</td>\n",
       "    </tr>\n",
       "    <tr>\n",
       "      <th>3</th>\n",
       "      <td>1.Centro</td>\n",
       "      <td>6.Prov. Bs.As.</td>\n",
       "      <td>05/2015</td>\n",
       "      <td>5</td>\n",
       "      <td>2015</td>\n",
       "      <td>1</td>\n",
       "      <td>1.Varones</td>\n",
       "      <td>01.menor a 20 anios</td>\n",
       "      <td>1000 ENF SISTEMA RESPIRATORIO</td>\n",
       "      <td>J18</td>\n",
       "      <td>1</td>\n",
       "    </tr>\n",
       "    <tr>\n",
       "      <th>4</th>\n",
       "      <td>1.Centro</td>\n",
       "      <td>6.Prov. Bs.As.</td>\n",
       "      <td>10/2015</td>\n",
       "      <td>10</td>\n",
       "      <td>2015</td>\n",
       "      <td>1</td>\n",
       "      <td>1.Varones</td>\n",
       "      <td>01.menor a 20 anios</td>\n",
       "      <td>1500 AFECC  PERINATALES</td>\n",
       "      <td>P36</td>\n",
       "      <td>1</td>\n",
       "    </tr>\n",
       "  </tbody>\n",
       "</table>\n",
       "</div>"
      ],
      "text/plain": [
       "     region    jurisdiccion mes_anio_defuncion  mes_def  anio_def  sexo_id  \\\n",
       "0  1.Centro  6.Prov. Bs.As.            09/2015        9      2015        1   \n",
       "1  1.Centro  6.Prov. Bs.As.            09/2015        9      2015        1   \n",
       "2  1.Centro  6.Prov. Bs.As.            08/2015        8      2015        1   \n",
       "3  1.Centro  6.Prov. Bs.As.            05/2015        5      2015        1   \n",
       "4  1.Centro  6.Prov. Bs.As.            10/2015       10      2015        1   \n",
       "\n",
       "  sexo_nombre         grupo_etario  \\\n",
       "0   1.Varones  01.menor a 20 anios   \n",
       "1   1.Varones  01.menor a 20 anios   \n",
       "2   1.Varones  01.menor a 20 anios   \n",
       "3   1.Varones  01.menor a 20 anios   \n",
       "4   1.Varones  01.menor a 20 anios   \n",
       "\n",
       "                         grupo_causa_defuncion_CIE10 cod_causa_muerte_CIE10  \\\n",
       "0                            1500 AFECC  PERINATALES                    P21   \n",
       "1  1600 MALFORM  CONGENITAS, DEFORM  Y ANOM  CROM...                    Q60   \n",
       "2  1600 MALFORM  CONGENITAS, DEFORM  Y ANOM  CROM...                    Q24   \n",
       "3                      1000 ENF SISTEMA RESPIRATORIO                    J18   \n",
       "4                            1500 AFECC  PERINATALES                    P36   \n",
       "\n",
       "   cantidad  \n",
       "0         1  \n",
       "1         1  \n",
       "2         1  \n",
       "3         1  \n",
       "4         1  "
      ]
     },
     "execution_count": 241,
     "metadata": {},
     "output_type": "execute_result"
    }
   ],
   "source": [
    "# Chequeamos que leyó el archivo\n",
    "defunciones.head()"
   ]
  },
  {
   "cell_type": "code",
   "execution_count": 206,
   "id": "98ba3772",
   "metadata": {},
   "outputs": [
    {
     "data": {
      "text/plain": [
       "region                         object\n",
       "jurisdiccion                   object\n",
       "mes_anio_defuncion             object\n",
       "mes_def                         int64\n",
       "anio_def                        int64\n",
       "sexo_id                         int64\n",
       "sexo_nombre                    object\n",
       "grupo_etario                   object\n",
       "grupo_causa_defuncion_CIE10    object\n",
       "cod_causa_muerte_CIE10         object\n",
       "cantidad                        int64\n",
       "dtype: object"
      ]
     },
     "execution_count": 206,
     "metadata": {},
     "output_type": "execute_result"
    }
   ],
   "source": [
    "# Revisar tipo de datos en el dataset\n",
    "defunciones.dtypes"
   ]
  },
  {
   "cell_type": "code",
   "execution_count": 207,
   "id": "733a3e80",
   "metadata": {},
   "outputs": [
    {
     "name": "stdout",
     "output_type": "stream",
     "text": [
      "El dataset cuenta con  (2516784, 11) siendo el primer campo filas y el segundo columnas\n"
     ]
    }
   ],
   "source": [
    "# Chequear cantidad de datos en el dataset\n",
    "tamaño=defunciones.shape\n",
    "print(\"El dataset cuenta con \", tamaño, \"siendo el primer campo filas y el segundo columnas\")"
   ]
  },
  {
   "cell_type": "code",
   "execution_count": 208,
   "id": "26f37dd3",
   "metadata": {},
   "outputs": [
    {
     "name": "stdout",
     "output_type": "stream",
     "text": [
      "El dataset tiene 2516784 filas en total y tiene 11 columnas\n"
     ]
    }
   ],
   "source": [
    "#Asigno variable al total de filas y de columnas\n",
    "num_filas,num_columnas=defunciones.shape\n",
    "print( f\"El dataset tiene {num_filas} filas en total y tiene {num_columnas} columnas\")"
   ]
  },
  {
   "cell_type": "code",
   "execution_count": 209,
   "id": "fd37a3ec",
   "metadata": {},
   "outputs": [
    {
     "name": "stdout",
     "output_type": "stream",
     "text": [
      "region                         0\n",
      "jurisdiccion                   0\n",
      "mes_anio_defuncion             0\n",
      "mes_def                        0\n",
      "anio_def                       0\n",
      "sexo_id                        0\n",
      "sexo_nombre                    0\n",
      "grupo_etario                   0\n",
      "grupo_causa_defuncion_CIE10    0\n",
      "cod_causa_muerte_CIE10         0\n",
      "cantidad                       0\n",
      "dtype: int64\n"
     ]
    }
   ],
   "source": [
    "# Revisar si existen datos faltantes en el dataset\n",
    "valores_faltantes=defunciones.isnull().sum()\n",
    "print(valores_faltantes)\n",
    "\n",
    "# No hay datos faltante"
   ]
  },
  {
   "cell_type": "code",
   "execution_count": 210,
   "id": "738fe91e",
   "metadata": {},
   "outputs": [
    {
     "data": {
      "text/plain": [
       "region                         0\n",
       "jurisdiccion                   0\n",
       "mes_anio_defuncion             0\n",
       "mes_def                        0\n",
       "anio_def                       0\n",
       "sexo_id                        0\n",
       "sexo_nombre                    0\n",
       "grupo_etario                   0\n",
       "grupo_causa_defuncion_CIE10    0\n",
       "cod_causa_muerte_CIE10         0\n",
       "cantidad                       0\n",
       "dtype: int64"
      ]
     },
     "execution_count": 210,
     "metadata": {},
     "output_type": "execute_result"
    }
   ],
   "source": [
    "#Datos con NA\n",
    "\n",
    "defunciones.isna().sum()"
   ]
  },
  {
   "cell_type": "code",
   "execution_count": 211,
   "id": "12399b11-78e4-4616-9ba3-14e016c63c49",
   "metadata": {},
   "outputs": [],
   "source": [
    "# VEEEEEEER RENOMBRAR COLUMNAS X EJ grupo_causa_defuncion_CIE10 "
   ]
  },
  {
   "cell_type": "code",
   "execution_count": 212,
   "id": "21c9f231",
   "metadata": {},
   "outputs": [],
   "source": [
    "# Filtrar cantidad de datos por año\n"
   ]
  },
  {
   "cell_type": "code",
   "execution_count": 213,
   "id": "150126ce-fa37-45f4-be85-289cc15b6dd4",
   "metadata": {},
   "outputs": [],
   "source": [
    "def_anio=defunciones['anio_def'].value_counts()"
   ]
  },
  {
   "cell_type": "code",
   "execution_count": 214,
   "id": "2c6d0665-6847-4d0e-b916-60f502f518c4",
   "metadata": {},
   "outputs": [
    {
     "name": "stdout",
     "output_type": "stream",
     "text": [
      "2021    432242\n",
      "2020    377592\n",
      "2016    352506\n",
      "2017    342344\n",
      "2019    341057\n",
      "2018    337600\n",
      "2015    333443\n",
      "Name: anio_def, dtype: int64\n"
     ]
    }
   ],
   "source": [
    "print(def_anio)"
   ]
  },
  {
   "cell_type": "code",
   "execution_count": 215,
   "id": "16ff8b56",
   "metadata": {},
   "outputs": [],
   "source": [
    "# Filtrar categorias de la variable jurisdiccion\n"
   ]
  },
  {
   "cell_type": "code",
   "execution_count": 216,
   "id": "77a42478-cb17-440f-b58b-f29ea83d5fff",
   "metadata": {},
   "outputs": [
    {
     "data": {
      "text/plain": [
       "array(['6.Prov. Bs.As.', '2.CABA', '99.no identificado.', '14.Cordoba.',\n",
       "       '82.Santa Fe.', '54.Misiones.', '22.Chaco.', '90.Tucuman.',\n",
       "       '18.Corrientes.', '30.Entre Rios.', '34.Formosa.', '50.Mendoza.'],\n",
       "      dtype=object)"
      ]
     },
     "execution_count": 216,
     "metadata": {},
     "output_type": "execute_result"
    }
   ],
   "source": [
    "defunciones['jurisdiccion'].unique()"
   ]
  },
  {
   "cell_type": "code",
   "execution_count": 217,
   "id": "ee9193e1-bc20-4022-a263-4fecacc60dd0",
   "metadata": {},
   "outputs": [],
   "source": [
    "# ver cantidad de ''99 no identificado' de la variable jurisdiccion por año\n"
   ]
  },
  {
   "cell_type": "code",
   "execution_count": 218,
   "id": "6a6e9c72-a944-469c-8895-9b07f827a939",
   "metadata": {},
   "outputs": [],
   "source": [
    "juris_99=defunciones[defunciones['jurisdiccion'] == '99.no identificado.']['anio_def'].value_counts()"
   ]
  },
  {
   "cell_type": "code",
   "execution_count": 219,
   "id": "242dff12-10aa-456b-ba1a-348abc1a2100",
   "metadata": {},
   "outputs": [
    {
     "name": "stdout",
     "output_type": "stream",
     "text": [
      "2021    65963\n",
      "2020    57838\n",
      "2016    50156\n",
      "2018    49802\n",
      "2019    49610\n",
      "2017    49278\n",
      "2015    46925\n",
      "Name: anio_def, dtype: int64\n"
     ]
    }
   ],
   "source": [
    "print(juris_99)"
   ]
  },
  {
   "cell_type": "code",
   "execution_count": 220,
   "id": "f063d63c-bf99-4b82-b623-051328113604",
   "metadata": {},
   "outputs": [],
   "source": [
    "# ver porcentaje de ''99 no identificado' sobre el total de datos de la variable jurisdiccion\n"
   ]
  },
  {
   "cell_type": "code",
   "execution_count": 221,
   "id": "a2426c0f-3cf1-4730-9b9f-1dda6d8b02d0",
   "metadata": {},
   "outputs": [],
   "source": [
    "porc_99_jurisd=(juris_99/def_anio)*100"
   ]
  },
  {
   "cell_type": "code",
   "execution_count": 222,
   "id": "a591a0c4-d63f-4eab-be23-a12502e50fc0",
   "metadata": {},
   "outputs": [
    {
     "name": "stdout",
     "output_type": "stream",
     "text": [
      "2015    14.072870\n",
      "2016    14.228410\n",
      "2017    14.394293\n",
      "2018    14.751777\n",
      "2019    14.545956\n",
      "2020    15.317591\n",
      "2021    15.260664\n",
      "Name: anio_def, dtype: float64\n"
     ]
    }
   ],
   "source": [
    "print (porc_99_jurisd)"
   ]
  },
  {
   "cell_type": "code",
   "execution_count": 223,
   "id": "c838b90e-a8c7-4f9c-9052-733706421568",
   "metadata": {},
   "outputs": [
    {
     "data": {
      "text/plain": [
       "14.653080333352424"
      ]
     },
     "execution_count": 223,
     "metadata": {},
     "output_type": "execute_result"
    }
   ],
   "source": [
    "porc_99_jurisd.mean()"
   ]
  },
  {
   "cell_type": "code",
   "execution_count": 224,
   "id": "6c7f0fa2-9597-4f96-af73-3a328f3c3ffd",
   "metadata": {},
   "outputs": [
    {
     "data": {
      "text/plain": [
       "array(['01.menor a 20 anios', '05.de 60 a 69 anios',\n",
       "       '03.de 40 a 49 anios', '02.de 20 a 39 anios',\n",
       "       '04.de 50 a 59 anios', '07. de 80 anios y mas',\n",
       "       '06.de 70 a 79 anios', '08.sin especificar'], dtype=object)"
      ]
     },
     "execution_count": 224,
     "metadata": {},
     "output_type": "execute_result"
    }
   ],
   "source": [
    "defunciones['grupo_etario'].unique()"
   ]
  },
  {
   "cell_type": "code",
   "execution_count": 225,
   "id": "a689f321-59ae-4f35-a45c-07ffb4abff6e",
   "metadata": {},
   "outputs": [
    {
     "data": {
      "text/plain": [
       "07. de 80 anios y mas    997080\n",
       "06.de 70 a 79 anios      592922\n",
       "05.de 60 a 69 anios      416732\n",
       "04.de 50 a 59 anios      209595\n",
       "02.de 20 a 39 anios      107111\n",
       "03.de 40 a 49 anios      103711\n",
       "01.menor a 20 anios       75626\n",
       "08.sin especificar        14007\n",
       "Name: grupo_etario, dtype: int64"
      ]
     },
     "execution_count": 225,
     "metadata": {},
     "output_type": "execute_result"
    }
   ],
   "source": [
    "defunciones['grupo_etario'].value_counts()"
   ]
  },
  {
   "cell_type": "code",
   "execution_count": 226,
   "id": "e7e50ae7-1755-4482-861f-40d2c50b15b6",
   "metadata": {},
   "outputs": [],
   "source": [
    "etario_08=defunciones[defunciones['grupo_etario'] == '08.sin especificar']['anio_def'].value_counts()"
   ]
  },
  {
   "cell_type": "code",
   "execution_count": 227,
   "id": "590f6714-8afc-486b-8985-0a0e59491cdc",
   "metadata": {},
   "outputs": [
    {
     "name": "stdout",
     "output_type": "stream",
     "text": [
      "2020    2949\n",
      "2019    2012\n",
      "2017    1942\n",
      "2018    1907\n",
      "2016    1784\n",
      "2021    1715\n",
      "2015    1698\n",
      "Name: anio_def, dtype: int64\n"
     ]
    }
   ],
   "source": [
    "print(etario_08)"
   ]
  },
  {
   "cell_type": "code",
   "execution_count": 228,
   "id": "c6290395-7c06-4eb3-914f-9a55e572fadf",
   "metadata": {},
   "outputs": [],
   "source": [
    "# VEEEEEEER\n",
    "# 1- conviene rangos en int?\n",
    "# 2- ver binning rangos etarios"
   ]
  },
  {
   "cell_type": "code",
   "execution_count": 229,
   "id": "2ceefae9-2f0e-421d-a526-ae449585082a",
   "metadata": {},
   "outputs": [
    {
     "data": {
      "text/plain": [
       "0900 ENF  DEL SISTEMA CIRCULATORIO                                 692307\n",
       "0200 T MALIGNOS                                                    429719\n",
       "1000 ENF SISTEMA RESPIRATORIO                                      427872\n",
       "0100 CIERTAS ENF INFECCIOSAS Y PARASITARIAS                        236544\n",
       "1900 SIGNOS, SINTOMAS Y AFECCIONES MAL DEFINIDAS Y DESCONOCIDAS    156731\n",
       "1700 CAUSAS EXTERNAS                                               129363\n",
       "1800 DEMAS CAUSAS DEFINIDAS                                        123220\n",
       "1300 ENF  DEL SISTEMA URINARIO                                      92111\n",
       "0300 DIABETES MELLITUS                                              65723\n",
       "1200 ENF  DEL HIGADO                                                40021\n",
       "1500 AFECC  PERINATALES                                             21169\n",
       "0299 C IN SITU, TUM BEN  Y COMP INCIERTO                            19502\n",
       "0800 TRASTORNOS MENTALES Y DEL COMP                                 18839\n",
       "0500 TRAST METABOLICOS                                              15147\n",
       "1600 MALFORM  CONGENITAS, DEFORM  Y ANOM  CROMOSOMICAS              14894\n",
       "1100 APEND , HERNIA CAV  ABDOM Y OBSTR  INTEST                      13125\n",
       "0700 ENF  DE ALZHEIMER                                              10370\n",
       "0400 DEF  Y ANEMIAS NUTRICION                                        6012\n",
       "1400 EMBARAZO, PARTO Y PUERPERIO                                     2122\n",
       "0600 MENINGITIS                                                      1993\n",
       "Name: grupo_causa_defuncion_CIE10, dtype: int64"
      ]
     },
     "execution_count": 229,
     "metadata": {},
     "output_type": "execute_result"
    }
   ],
   "source": [
    "defunciones['grupo_causa_defuncion_CIE10'].value_counts()"
   ]
  },
  {
   "cell_type": "code",
   "execution_count": 230,
   "id": "deed2bf8-23e4-42c0-b526-8f98d06d02c2",
   "metadata": {},
   "outputs": [],
   "source": [
    "#VEEEER Graficos"
   ]
  },
  {
   "cell_type": "code",
   "execution_count": 231,
   "id": "b5c50e92-cb17-418d-9bf8-7299aef7d15a",
   "metadata": {},
   "outputs": [],
   "source": [
    "# Daniela: label encoder region\n",
    "# binding y analisis de datos: niños, adultos, ancianos, graficos causas por edad"
   ]
  },
  {
   "cell_type": "code",
   "execution_count": 233,
   "id": "41e9dab1",
   "metadata": {},
   "outputs": [
    {
     "name": "stdout",
     "output_type": "stream",
     "text": [
      "<bound method NDFrame._add_numeric_operations.<locals>.min of 0          01.menor a 20 anios\n",
      "1          01.menor a 20 anios\n",
      "2          01.menor a 20 anios\n",
      "3          01.menor a 20 anios\n",
      "4          01.menor a 20 anios\n",
      "                  ...         \n",
      "2516779    01.menor a 20 anios\n",
      "2516780    01.menor a 20 anios\n",
      "2516781    01.menor a 20 anios\n",
      "2516782    01.menor a 20 anios\n",
      "2516783    01.menor a 20 anios\n",
      "Name: grupo_etario, Length: 2516784, dtype: object>\n",
      "<bound method NDFrame._add_numeric_operations.<locals>.max of 0          01.menor a 20 anios\n",
      "1          01.menor a 20 anios\n",
      "2          01.menor a 20 anios\n",
      "3          01.menor a 20 anios\n",
      "4          01.menor a 20 anios\n",
      "                  ...         \n",
      "2516779    01.menor a 20 anios\n",
      "2516780    01.menor a 20 anios\n",
      "2516781    01.menor a 20 anios\n",
      "2516782    01.menor a 20 anios\n",
      "2516783    01.menor a 20 anios\n",
      "Name: grupo_etario, Length: 2516784, dtype: object>\n"
     ]
    }
   ],
   "source": [
    "print (defunciones.grupo_etario.min)\n",
    "print (defunciones.grupo_etario.max)"
   ]
  },
  {
   "cell_type": "code",
   "execution_count": 235,
   "id": "58a6306e",
   "metadata": {},
   "outputs": [],
   "source": [
    "conteo_causas = defunciones['grupo_causa_defuncion_CIE10'].value_counts()"
   ]
  },
  {
   "cell_type": "code",
   "execution_count": 236,
   "id": "d6391be4",
   "metadata": {},
   "outputs": [],
   "source": [
    "causas_mayores = conteo_causas.head(10)"
   ]
  },
  {
   "cell_type": "code",
   "execution_count": 237,
   "id": "35bc6f22",
   "metadata": {},
   "outputs": [
    {
     "name": "stdout",
     "output_type": "stream",
     "text": [
      "0900 ENF  DEL SISTEMA CIRCULATORIO                                 692307\n",
      "0200 T MALIGNOS                                                    429719\n",
      "1000 ENF SISTEMA RESPIRATORIO                                      427872\n",
      "0100 CIERTAS ENF INFECCIOSAS Y PARASITARIAS                        236544\n",
      "1900 SIGNOS, SINTOMAS Y AFECCIONES MAL DEFINIDAS Y DESCONOCIDAS    156731\n",
      "1700 CAUSAS EXTERNAS                                               129363\n",
      "1800 DEMAS CAUSAS DEFINIDAS                                        123220\n",
      "1300 ENF  DEL SISTEMA URINARIO                                      92111\n",
      "0300 DIABETES MELLITUS                                              65723\n",
      "1200 ENF  DEL HIGADO                                                40021\n",
      "Name: grupo_causa_defuncion_CIE10, dtype: int64\n"
     ]
    }
   ],
   "source": [
    "print(causas_mayores)"
   ]
  },
  {
   "cell_type": "code",
   "execution_count": 253,
   "id": "5a77490a",
   "metadata": {},
   "outputs": [
    {
     "data": {
      "image/png": "[encoded data removed]",
      "text/plain": [
       "<Figure size 1000x600 with 1 Axes>"
      ]
     },
     "metadata": {},
     "output_type": "display_data"
    }
   ],
   "source": [
    "plt.figure(figsize=(10, 6))\n",
    "sns.barplot(x=causas_mayores.index, y=causas_mayores.values)\n",
    "plt.xlabel(\"Causa de defunción\")\n",
    "plt.ylabel(\"Número de defunciones\")\n",
    "plt.title(\"Mayores causas de defunciónes\")\n",
    "plt.xticks(rotation=40)\n",
    "plt.show()"
   ]
  },
  {
   "cell_type": "code",
   "execution_count": 254,
   "id": "6cd0c534",
   "metadata": {},
   "outputs": [],
   "source": [
    "encoder = LabelEncoder()"
   ]
  },
  {
   "cell_type": "code",
   "execution_count": 255,
   "id": "ce582a47",
   "metadata": {},
   "outputs": [],
   "source": [
    "defunciones['region_encod'] = encoder.fit_transform(defunciones['region'])"
   ]
  },
  {
   "cell_type": "code",
   "execution_count": 256,
   "id": "3bccce66",
   "metadata": {},
   "outputs": [
    {
     "name": "stdout",
     "output_type": "stream",
     "text": [
      "   region  region_encod\n",
      "0       0             0\n",
      "1       0             0\n",
      "2       0             0\n",
      "3       0             0\n",
      "4       0             0\n"
     ]
    }
   ],
   "source": [
    "print(defunciones[['region', 'region_encod']].head())"
   ]
  },
  {
   "cell_type": "code",
   "execution_count": 298,
   "id": "0be47937",
   "metadata": {},
   "outputs": [],
   "source": [
    "grupo_etario_counts = defunciones['grupo_etario_binning'].value_counts().sort_index()"
   ]
  },
  {
   "cell_type": "code",
   "execution_count": 299,
   "id": "093c42a1",
   "metadata": {},
   "outputs": [
    {
     "data": {
      "image/png": "[encoded data removed]",
      "text/plain": [
       "<Figure size 1000x600 with 1 Axes>"
      ]
     },
     "metadata": {},
     "output_type": "display_data"
    }
   ],
   "source": [
    "plt.figure(figsize=(10, 6))\n",
    "grupo_etario_counts.plot(kind='bar', color='skyblue')\n",
    "plt.title('Distribución de Defunciones por Grupo Etario')\n",
    "plt.xlabel('Grupo Etario')\n",
    "plt.ylabel('Número de Defunciones')\n",
    "plt.xticks(rotation=45)\n",
    "plt.show()"
   ]
  },
  {
   "cell_type": "code",
   "execution_count": null,
   "id": "74d5b3f8",
   "metadata": {},
   "outputs": [],
   "source": [
    "# Cande: graficos distribución de datos, (outliers?)\n",
    "#¿Hay correlación entre features?\n"
   ]
  },
  {
   "cell_type": "code",
   "execution_count": 7,
   "id": "268b757e-a6a2-4711-8d00-b2f6cc7cd51e",
   "metadata": {},
   "outputs": [],
   "source": [
    "# Clara: armar repo \n",
    "# renombrar columna, \n",
    "# minimos y maximos de causas, años, sexo, ragos etarios, region\n",
    "#graficos de analisis de causas en gral y causas por region (categorías principales?)"
   ]
  },
  {
   "cell_type": "markdown",
   "id": "2febb0cf-8a2d-44f9-816a-20e0301db79e",
   "metadata": {},
   "source": [
    "#PREGUNTAR: Analisis de correlacion entre variables?\n",
    "#Redactar conclusión?"
   ]
  },
  {
   "cell_type": "code",
   "execution_count": null,
   "id": "c44f09fb",
   "metadata": {},
   "outputs": [],
   "source": []
  }
 ],
 "metadata": {
  "kernelspec": {
   "display_name": "Python 3 (ipykernel)",
   "language": "python",
   "name": "python3"
  },
  "language_info": {
   "codemirror_mode": {
    "name": "ipython",
    "version": 3
   },
   "file_extension": ".py",
   "mimetype": "text/x-python",
   "name": "python",
   "nbconvert_exporter": "python",
   "pygments_lexer": "ipython3",
   "version": "3.11.4"
  }
 },
 "nbformat": 4,
 "nbformat_minor": 5
}

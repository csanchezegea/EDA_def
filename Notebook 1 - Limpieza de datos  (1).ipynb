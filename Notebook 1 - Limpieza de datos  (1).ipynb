{
 "cells": [
  {
   "cell_type": "markdown",
   "id": "45bf6c1e",
   "metadata": {},
   "source": [
    "# GRUPO 1: PURO HUESO\n",
    "                # NOTEBOOK 1\n",
    "                            # LECTURA Y LIMPIEZA DE DATASET"
   ]
  },
  {
   "cell_type": "code",
   "execution_count": null,
   "id": "2a2e56fc",
   "metadata": {},
   "outputs": [],
   "source": []
  },
  {
   "cell_type": "code",
   "execution_count": 3,
   "id": "96fa3a15",
   "metadata": {},
   "outputs": [],
   "source": [
    "#1 Importar librerias a utilizar\n",
    "import pandas as pd\n",
    "import numpy as np\n",
    "import matplotlib.pyplot as plt\n",
    "import seaborn as sns\n",
    "from scipy import stats\n",
    "from sklearn.preprocessing import LabelEncoder"
   ]
  },
  {
   "cell_type": "code",
   "execution_count": 4,
   "id": "100d43f3",
   "metadata": {},
   "outputs": [],
   "source": [
    "#2 leer archivo csv\n",
    "defunciones = pd.read_csv('arg_def_15_21.csv')"
   ]
  },
  {
   "cell_type": "code",
   "execution_count": 5,
   "id": "cafbd297",
   "metadata": {},
   "outputs": [
    {
     "data": {
      "text/html": [
       "<div>\n",
       "<style scoped>\n",
       "    .dataframe tbody tr th:only-of-type {\n",
       "        vertical-align: middle;\n",
       "    }\n",
       "\n",
       "    .dataframe tbody tr th {\n",
       "        vertical-align: top;\n",
       "    }\n",
       "\n",
       "    .dataframe thead th {\n",
       "        text-align: right;\n",
       "    }\n",
       "</style>\n",
       "<table border=\"1\" class=\"dataframe\">\n",
       "  <thead>\n",
       "    <tr style=\"text-align: right;\">\n",
       "      <th></th>\n",
       "      <th>region</th>\n",
       "      <th>jurisdiccion</th>\n",
       "      <th>mes_anio_defuncion</th>\n",
       "      <th>mes_def</th>\n",
       "      <th>anio_def</th>\n",
       "      <th>sexo_id</th>\n",
       "      <th>sexo_nombre</th>\n",
       "      <th>grupo_etario</th>\n",
       "      <th>grupo_causa_defuncion_CIE10</th>\n",
       "      <th>cod_causa_muerte_CIE10</th>\n",
       "      <th>cantidad</th>\n",
       "    </tr>\n",
       "  </thead>\n",
       "  <tbody>\n",
       "    <tr>\n",
       "      <th>0</th>\n",
       "      <td>1.Centro</td>\n",
       "      <td>6.Prov. Bs.As.</td>\n",
       "      <td>09/2015</td>\n",
       "      <td>9</td>\n",
       "      <td>2015</td>\n",
       "      <td>1</td>\n",
       "      <td>1.Varones</td>\n",
       "      <td>01.menor a 20 anios</td>\n",
       "      <td>1500 AFECC  PERINATALES</td>\n",
       "      <td>P21</td>\n",
       "      <td>1</td>\n",
       "    </tr>\n",
       "    <tr>\n",
       "      <th>1</th>\n",
       "      <td>1.Centro</td>\n",
       "      <td>6.Prov. Bs.As.</td>\n",
       "      <td>09/2015</td>\n",
       "      <td>9</td>\n",
       "      <td>2015</td>\n",
       "      <td>1</td>\n",
       "      <td>1.Varones</td>\n",
       "      <td>01.menor a 20 anios</td>\n",
       "      <td>1600 MALFORM  CONGENITAS, DEFORM  Y ANOM  CROM...</td>\n",
       "      <td>Q60</td>\n",
       "      <td>1</td>\n",
       "    </tr>\n",
       "    <tr>\n",
       "      <th>2</th>\n",
       "      <td>1.Centro</td>\n",
       "      <td>6.Prov. Bs.As.</td>\n",
       "      <td>08/2015</td>\n",
       "      <td>8</td>\n",
       "      <td>2015</td>\n",
       "      <td>1</td>\n",
       "      <td>1.Varones</td>\n",
       "      <td>01.menor a 20 anios</td>\n",
       "      <td>1600 MALFORM  CONGENITAS, DEFORM  Y ANOM  CROM...</td>\n",
       "      <td>Q24</td>\n",
       "      <td>1</td>\n",
       "    </tr>\n",
       "    <tr>\n",
       "      <th>3</th>\n",
       "      <td>1.Centro</td>\n",
       "      <td>6.Prov. Bs.As.</td>\n",
       "      <td>05/2015</td>\n",
       "      <td>5</td>\n",
       "      <td>2015</td>\n",
       "      <td>1</td>\n",
       "      <td>1.Varones</td>\n",
       "      <td>01.menor a 20 anios</td>\n",
       "      <td>1000 ENF SISTEMA RESPIRATORIO</td>\n",
       "      <td>J18</td>\n",
       "      <td>1</td>\n",
       "    </tr>\n",
       "    <tr>\n",
       "      <th>4</th>\n",
       "      <td>1.Centro</td>\n",
       "      <td>6.Prov. Bs.As.</td>\n",
       "      <td>10/2015</td>\n",
       "      <td>10</td>\n",
       "      <td>2015</td>\n",
       "      <td>1</td>\n",
       "      <td>1.Varones</td>\n",
       "      <td>01.menor a 20 anios</td>\n",
       "      <td>1500 AFECC  PERINATALES</td>\n",
       "      <td>P36</td>\n",
       "      <td>1</td>\n",
       "    </tr>\n",
       "  </tbody>\n",
       "</table>\n",
       "</div>"
      ],
      "text/plain": [
       "     region    jurisdiccion mes_anio_defuncion  mes_def  anio_def  sexo_id  \\\n",
       "0  1.Centro  6.Prov. Bs.As.            09/2015        9      2015        1   \n",
       "1  1.Centro  6.Prov. Bs.As.            09/2015        9      2015        1   \n",
       "2  1.Centro  6.Prov. Bs.As.            08/2015        8      2015        1   \n",
       "3  1.Centro  6.Prov. Bs.As.            05/2015        5      2015        1   \n",
       "4  1.Centro  6.Prov. Bs.As.            10/2015       10      2015        1   \n",
       "\n",
       "  sexo_nombre         grupo_etario  \\\n",
       "0   1.Varones  01.menor a 20 anios   \n",
       "1   1.Varones  01.menor a 20 anios   \n",
       "2   1.Varones  01.menor a 20 anios   \n",
       "3   1.Varones  01.menor a 20 anios   \n",
       "4   1.Varones  01.menor a 20 anios   \n",
       "\n",
       "                         grupo_causa_defuncion_CIE10 cod_causa_muerte_CIE10  \\\n",
       "0                            1500 AFECC  PERINATALES                    P21   \n",
       "1  1600 MALFORM  CONGENITAS, DEFORM  Y ANOM  CROM...                    Q60   \n",
       "2  1600 MALFORM  CONGENITAS, DEFORM  Y ANOM  CROM...                    Q24   \n",
       "3                      1000 ENF SISTEMA RESPIRATORIO                    J18   \n",
       "4                            1500 AFECC  PERINATALES                    P36   \n",
       "\n",
       "   cantidad  \n",
       "0         1  \n",
       "1         1  \n",
       "2         1  \n",
       "3         1  \n",
       "4         1  "
      ]
     },
     "execution_count": 5,
     "metadata": {},
     "output_type": "execute_result"
    }
   ],
   "source": [
    "#3 Chequeamos que leyó el archivo\n",
    "defunciones.head()"
   ]
  },
  {
   "cell_type": "markdown",
   "id": "1108023f",
   "metadata": {},
   "source": [
    "## Revisar tipo de datos en el dataset"
   ]
  },
  {
   "cell_type": "code",
   "execution_count": 8,
   "id": "cff82163",
   "metadata": {},
   "outputs": [
    {
     "data": {
      "text/plain": [
       "region                         object\n",
       "jurisdiccion                   object\n",
       "mes_anio_defuncion             object\n",
       "mes_def                         int64\n",
       "anio_def                        int64\n",
       "sexo_id                         int64\n",
       "sexo_nombre                    object\n",
       "grupo_etario                   object\n",
       "grupo_causa_defuncion_CIE10    object\n",
       "cod_causa_muerte_CIE10         object\n",
       "cantidad                        int64\n",
       "dtype: object"
      ]
     },
     "execution_count": 8,
     "metadata": {},
     "output_type": "execute_result"
    }
   ],
   "source": [
    "# Usamos dtypes para chequear tipo de datos\n",
    "defunciones.dtypes"
   ]
  },
  {
   "cell_type": "code",
   "execution_count": 9,
   "id": "5cdb5241",
   "metadata": {},
   "outputs": [
    {
     "name": "stdout",
     "output_type": "stream",
     "text": [
      "El dataset tiene 2516784 filas en total y tiene 11 columnas\n"
     ]
    }
   ],
   "source": [
    "# Asigno variable al total de filas y de columnas\n",
    "num_filas,num_columnas=defunciones.shape\n",
    "print( f\"El dataset tiene {num_filas} filas en total y tiene {num_columnas} columnas\")"
   ]
  },
  {
   "cell_type": "code",
   "execution_count": 10,
   "id": "d97a3e8e",
   "metadata": {},
   "outputs": [
    {
     "name": "stdout",
     "output_type": "stream",
     "text": [
      "<class 'pandas.core.frame.DataFrame'>\n",
      "RangeIndex: 2516784 entries, 0 to 2516783\n",
      "Data columns (total 11 columns):\n",
      " #   Column                       Dtype \n",
      "---  ------                       ----- \n",
      " 0   region                       object\n",
      " 1   jurisdiccion                 object\n",
      " 2   mes_anio_defuncion           object\n",
      " 3   mes_def                      int64 \n",
      " 4   anio_def                     int64 \n",
      " 5   sexo_id                      int64 \n",
      " 6   sexo_nombre                  object\n",
      " 7   grupo_etario                 object\n",
      " 8   grupo_causa_defuncion_CIE10  object\n",
      " 9   cod_causa_muerte_CIE10       object\n",
      " 10  cantidad                     int64 \n",
      "dtypes: int64(4), object(7)\n",
      "memory usage: 211.2+ MB\n"
     ]
    }
   ],
   "source": [
    "# Chequeo de info de dataset\n",
    "defunciones.info()"
   ]
  },
  {
   "cell_type": "markdown",
   "id": "c5f9a4b7",
   "metadata": {},
   "source": [
    "## Datos faltantes o nulos"
   ]
  },
  {
   "cell_type": "code",
   "execution_count": null,
   "id": "c4916706",
   "metadata": {},
   "outputs": [],
   "source": []
  },
  {
   "cell_type": "code",
   "execution_count": 14,
   "id": "e8d02e70",
   "metadata": {},
   "outputs": [
    {
     "name": "stdout",
     "output_type": "stream",
     "text": [
      "region                         0\n",
      "jurisdiccion                   0\n",
      "mes_anio_defuncion             0\n",
      "mes_def                        0\n",
      "anio_def                       0\n",
      "sexo_id                        0\n",
      "sexo_nombre                    0\n",
      "grupo_etario                   0\n",
      "grupo_causa_defuncion_CIE10    0\n",
      "cod_causa_muerte_CIE10         0\n",
      "cantidad                       0\n",
      "dtype: int64\n"
     ]
    }
   ],
   "source": [
    "# Revisar si existen datos faltantes en el dataset\n",
    "valores_faltantes=defunciones.isnull().sum()\n",
    "print(valores_faltantes)"
   ]
  },
  {
   "cell_type": "code",
   "execution_count": 15,
   "id": "43baa397",
   "metadata": {},
   "outputs": [
    {
     "data": {
      "text/plain": [
       "region                         0\n",
       "jurisdiccion                   0\n",
       "mes_anio_defuncion             0\n",
       "mes_def                        0\n",
       "anio_def                       0\n",
       "sexo_id                        0\n",
       "sexo_nombre                    0\n",
       "grupo_etario                   0\n",
       "grupo_causa_defuncion_CIE10    0\n",
       "cod_causa_muerte_CIE10         0\n",
       "cantidad                       0\n",
       "dtype: int64"
      ]
     },
     "execution_count": 15,
     "metadata": {},
     "output_type": "execute_result"
    }
   ],
   "source": [
    "# Datos con NA en el dataset\n",
    "\n",
    "defunciones.isna().sum()"
   ]
  },
  {
   "cell_type": "code",
   "execution_count": 16,
   "id": "4ca89283",
   "metadata": {},
   "outputs": [
    {
     "data": {
      "text/plain": [
       "region                         2516784\n",
       "jurisdiccion                   2516784\n",
       "mes_anio_defuncion             2516784\n",
       "mes_def                        2516784\n",
       "anio_def                       2516784\n",
       "sexo_id                        2516784\n",
       "sexo_nombre                    2516784\n",
       "grupo_etario                   2516784\n",
       "grupo_causa_defuncion_CIE10    2516784\n",
       "cod_causa_muerte_CIE10         2516784\n",
       "cantidad                       2516784\n",
       "dtype: int64"
      ]
     },
     "execution_count": 16,
     "metadata": {},
     "output_type": "execute_result"
    }
   ],
   "source": [
    "defunciones.notnull().count() # todos las filas tienen datos no hay nulo ni faltantes"
   ]
  },
  {
   "cell_type": "code",
   "execution_count": 17,
   "id": "e2032f26",
   "metadata": {},
   "outputs": [],
   "source": [
    "# Pasar al readme: \n",
    "#El dataset no presenta datos faltantes o nulos. Todas las filas y columnas tienen algún tipo de dato. \n",
    "#Principalmente se cuentan con datos del tipo objeto y pocos enteros o float. \n",
    "#Cada fila del dataset equivale a una muerte en el país."
   ]
  },
  {
   "cell_type": "markdown",
   "id": "95d98295",
   "metadata": {},
   "source": [
    "# # Columnas en el dataset"
   ]
  },
  {
   "cell_type": "code",
   "execution_count": 19,
   "id": "5e8298ed",
   "metadata": {},
   "outputs": [
    {
     "data": {
      "text/plain": [
       "Index(['region', 'jurisdiccion', 'mes_anio_defuncion', 'mes_def', 'anio_def',\n",
       "       'sexo_id', 'sexo_nombre', 'grupo_etario', 'grupo_causa_defuncion_CIE10',\n",
       "       'cod_causa_muerte_CIE10', 'cantidad'],\n",
       "      dtype='object')"
      ]
     },
     "execution_count": 19,
     "metadata": {},
     "output_type": "execute_result"
    }
   ],
   "source": [
    "# Columnas del dataset\n",
    "defunciones.columns"
   ]
  },
  {
   "cell_type": "markdown",
   "id": "61702b31",
   "metadata": {},
   "source": [
    "# Limpieza de datos"
   ]
  },
  {
   "cell_type": "code",
   "execution_count": 21,
   "id": "2878a646",
   "metadata": {},
   "outputs": [
    {
     "data": {
      "text/plain": [
       "Index(['region', 'jurisdiccion', 'mes_anio_defuncion', 'sexo_nombre',\n",
       "       'grupo_etario', 'grupo_causa_defuncion_CIE10'],\n",
       "      dtype='object')"
      ]
     },
     "execution_count": 21,
     "metadata": {},
     "output_type": "execute_result"
    }
   ],
   "source": [
    "# Eliminar columnas 'mes_def', 'anio_def','sexo_id', 'cod_causa_muerte_CIE10', 'cantidad' \n",
    "# no sirven para el análisis, presentan datos codificados y podrían contener errores en la estandarización de datos.\n",
    "defunciones.drop('mes_def', axis=1, inplace=True)\n",
    "defunciones.drop('anio_def', axis=1, inplace=True)\n",
    "defunciones.drop('sexo_id', axis=1, inplace=True)\n",
    "defunciones.drop('cod_causa_muerte_CIE10', axis=1, inplace=True)\n",
    "defunciones.drop('cantidad', axis=1, inplace=True)\n",
    "\n",
    "defunciones.columns\n",
    "\n"
   ]
  },
  {
   "cell_type": "code",
   "execution_count": 22,
   "id": "1bf144d3",
   "metadata": {},
   "outputs": [
    {
     "data": {
      "text/plain": [
       "Index(['region', 'jurisdiccion', 'mes_anio_defuncion', 'sexo', 'grupo_etario',\n",
       "       'causa_defuncion'],\n",
       "      dtype='object')"
      ]
     },
     "execution_count": 22,
     "metadata": {},
     "output_type": "execute_result"
    }
   ],
   "source": [
    "# Renombrar columnas\n",
    "defunciones.rename(columns={'grupo_causa_defuncion_CIE10': 'causa_defuncion', 'sexo_nombre': 'sexo'}, inplace=True)\n",
    "defunciones.columns"
   ]
  },
  {
   "cell_type": "markdown",
   "id": "a1d778ee",
   "metadata": {},
   "source": [
    "                        Columnas restantes, limpieza y estandarización"
   ]
  },
  {
   "cell_type": "code",
   "execution_count": 24,
   "id": "1571ad04",
   "metadata": {},
   "outputs": [
    {
     "name": "stderr",
     "output_type": "stream",
     "text": [
      "/tmp/ipykernel_164/1016183382.py:2: FutureWarning: The default value of regex will change from True to False in a future version.\n",
      "  defunciones[\"region\"]= defunciones.region.str.replace('([0,1,2,3,4,5,6,7,8,9,10])',\"\",1)\n",
      "/tmp/ipykernel_164/1016183382.py:3: FutureWarning: The default value of regex will change from True to False in a future version.\n",
      "  defunciones[\"region\"]= defunciones.region.str.replace('([0])',\"\",1)\n",
      "/tmp/ipykernel_164/1016183382.py:4: FutureWarning: The default value of regex will change from True to False in a future version. In addition, single character regular expressions will *not* be treated as literal strings when regex=True.\n",
      "  defunciones[\"region\"]= defunciones.region.str.replace('.',\"\",)\n"
     ]
    },
    {
     "data": {
      "text/plain": [
       "array(['Centro', 'Cuyo2', 'NOA1', 'PatSur', 'NEA', 'NOA2', 'NOA',\n",
       "       'Pat Norte', 'sin especificar', 'Cuyo1'], dtype=object)"
      ]
     },
     "execution_count": 24,
     "metadata": {},
     "output_type": "execute_result"
    }
   ],
   "source": [
    "# Columna REGION - quitar números y puntos\n",
    "defunciones[\"region\"]= defunciones.region.str.replace('([0,1,2,3,4,5,6,7,8,9,10])',\"\",1)\n",
    "defunciones[\"region\"]= defunciones.region.str.replace('([0])',\"\",1)\n",
    "defunciones[\"region\"]= defunciones.region.str.replace('.',\"\",)\n",
    "defunciones[\"region\"].unique()"
   ]
  },
  {
   "cell_type": "code",
   "execution_count": 25,
   "id": "36322c14",
   "metadata": {},
   "outputs": [
    {
     "data": {
      "text/plain": [
       "array(['Prov', 'CABA', 'no identificado', 'Cordoba', 'Santa Fe',\n",
       "       'Misiones', 'Chaco', 'Tucuman', 'Corrientes', 'Entre Rios',\n",
       "       'Formosa', 'Mendoza'], dtype=object)"
      ]
     },
     "execution_count": 25,
     "metadata": {},
     "output_type": "execute_result"
    }
   ],
   "source": [
    "# Columna JURISDICCION - quitar números y puntos\n",
    "\n",
    "defunciones['jurisdiccion']= defunciones.jurisdiccion.str.extract('([a-zA-Z  ]+)')\n",
    "\n",
    "defunciones['jurisdiccion'].unique()"
   ]
  },
  {
   "cell_type": "code",
   "execution_count": 26,
   "id": "b2a616a9",
   "metadata": {},
   "outputs": [
    {
     "data": {
      "text/plain": [
       "array(['Bs As', 'CABA', 'no identificado', 'Cordoba', 'Santa Fe',\n",
       "       'Misiones', 'Chaco', 'Tucuman', 'Corrientes', 'Entre Rios',\n",
       "       'Formosa', 'Mendoza'], dtype=object)"
      ]
     },
     "execution_count": 26,
     "metadata": {},
     "output_type": "execute_result"
    }
   ],
   "source": [
    "# Corrección del nombre de la jurisdicción Prov a 'Bs As'\n",
    "defunciones['jurisdiccion']= defunciones['jurisdiccion'].replace('Prov', 'Bs As')\n",
    "defunciones['jurisdiccion'].unique()"
   ]
  },
  {
   "cell_type": "code",
   "execution_count": 27,
   "id": "d5a2e428-4252-4d73-9dab-1c3f3890494c",
   "metadata": {},
   "outputs": [],
   "source": [
    "#conteo de jurisdiccion \"no identificado\"."
   ]
  },
  {
   "cell_type": "code",
   "execution_count": 28,
   "id": "2ac75d37-239b-47f1-ae34-e3ce80c0e430",
   "metadata": {},
   "outputs": [
    {
     "name": "stdout",
     "output_type": "stream",
     "text": [
      "La cantidad de registros con \"no especificado\" en la columna \"jurisdicción\" es: 369572\n"
     ]
    }
   ],
   "source": [
    "cont_no_identificado = defunciones[defunciones['jurisdiccion'] == 'no identificado'].shape[0]\n",
    "print(f'La cantidad de registros con \"no especificado\" en la columna \"jurisdicción\" es: {cont_no_identificado}')\n"
   ]
  },
  {
   "cell_type": "code",
   "execution_count": 29,
   "id": "c721388a-32f3-44d0-a50d-96a4655d2770",
   "metadata": {},
   "outputs": [],
   "source": [
    "total_registros = defunciones.shape[0]\n",
    "porcentaje = (cont_no_identificado / total_registros) * 100"
   ]
  },
  {
   "cell_type": "code",
   "execution_count": 30,
   "id": "a914b539-ed5f-4fab-84f1-fbd2eba05471",
   "metadata": {},
   "outputs": [
    {
     "name": "stdout",
     "output_type": "stream",
     "text": [
      "El porcentaje de  \"no especificado\"  es: 14.68%\n"
     ]
    }
   ],
   "source": [
    "print(f'El porcentaje de  \"no especificado\"  es: {porcentaje:.2f}%')"
   ]
  },
  {
   "cell_type": "code",
   "execution_count": 31,
   "id": "dc11db19-3066-407b-8369-21b6a6b38a0c",
   "metadata": {},
   "outputs": [],
   "source": [
    "#conteo de region \"sin especificar\"."
   ]
  },
  {
   "cell_type": "code",
   "execution_count": 32,
   "id": "8d7122bb-4ab7-415a-9536-cc6b05149796",
   "metadata": {},
   "outputs": [
    {
     "name": "stdout",
     "output_type": "stream",
     "text": [
      "La cantidad de registros con \"sin especificar\" en la columna \"region\" es: 9196\n"
     ]
    }
   ],
   "source": [
    "cont_sin_especificar = defunciones[defunciones['region'] == 'sin especificar'].shape[0]\n",
    "print(f'La cantidad de registros con \"sin especificar\" en la columna \"region\" es: {cont_sin_especificar}')"
   ]
  },
  {
   "cell_type": "code",
   "execution_count": 33,
   "id": "5c4207bd-fb50-4d9f-a98e-56d8427d3f99",
   "metadata": {},
   "outputs": [
    {
     "name": "stdout",
     "output_type": "stream",
     "text": [
      "El porcentaje de  \"sin especificar\"  es: 0.37%\n"
     ]
    }
   ],
   "source": [
    "total_registros = defunciones.shape[0]\n",
    "porcentaje = (cont_sin_especificar / total_registros) * 100\n",
    "print(f'El porcentaje de  \"sin especificar\"  es: {porcentaje:.2f}%')"
   ]
  },
  {
   "cell_type": "code",
   "execution_count": 34,
   "id": "b5297769-d6b3-45bb-b8b8-e1feb43b2442",
   "metadata": {},
   "outputs": [],
   "source": [
    "#columnas con registros \"sin especificar\"\"no especificado\"  en jurisdiccion y region"
   ]
  },
  {
   "cell_type": "code",
   "execution_count": 35,
   "id": "58bdb70d-5eba-4ab7-b4b7-b1f07883ec99",
   "metadata": {},
   "outputs": [
    {
     "name": "stdout",
     "output_type": "stream",
     "text": [
      "            jurisdiccion           region\n",
      "2857     no identificado  sin especificar\n",
      "3342     no identificado  sin especificar\n",
      "3701     no identificado  sin especificar\n",
      "3955     no identificado  sin especificar\n",
      "4176     no identificado  sin especificar\n",
      "...                  ...              ...\n",
      "2511483  no identificado  sin especificar\n",
      "2513495  no identificado  sin especificar\n",
      "2514946  no identificado  sin especificar\n",
      "2515572  no identificado  sin especificar\n",
      "2516661  no identificado  sin especificar\n",
      "\n",
      "[9196 rows x 2 columns]\n"
     ]
    }
   ],
   "source": [
    "filtro = defunciones[\"jurisdiccion\"].str.contains(\"no especificado\") | defunciones[\"jurisdiccion\"].str.contains(\"sin especificar\") & defunciones[\"region\"].str.contains(\"no especificado\") | defunciones[\"region\"].str.contains(\"sin especificar\")\n",
    "columnas_jurisdiccion_y_region = defunciones[filtro][[\"jurisdiccion\", \"region\"]]\n",
    "print(columnas_jurisdiccion_y_region)"
   ]
  },
  {
   "cell_type": "code",
   "execution_count": 36,
   "id": "11d1d3a5-d98c-485f-a6c8-082a4118a7b0",
   "metadata": {},
   "outputs": [],
   "source": [
    "#Eliminar filas que tengan como valor sin especificar o no especificado en las features Region y Jurisdiccion"
   ]
  },
  {
   "cell_type": "code",
   "execution_count": 42,
   "id": "1f84b3e3-6151-4148-a462-49b48dff7703",
   "metadata": {},
   "outputs": [],
   "source": [
    "defunciones.drop(defunciones[defunciones[\"jurisdiccion\"].str.contains('no especificado')| defunciones[\"jurisdiccion\"].str.contains(\"sin especificar\") & defunciones[\"region\"].str.contains(\"no especificado\") | defunciones[\"region\"].str.contains(\"sin especificar\")].index, inplace=True)"
   ]
  },
  {
   "cell_type": "code",
   "execution_count": 28,
   "id": "f6cf395f-095b-47c3-b1d4-f8e7a8afe4bf",
   "metadata": {},
   "outputs": [
    {
     "data": {
      "text/plain": [
       "(2507588, 6)"
      ]
     },
     "execution_count": 28,
     "metadata": {},
     "output_type": "execute_result"
    }
   ],
   "source": [
    "defunciones.shape"
   ]
  },
  {
   "cell_type": "code",
   "execution_count": 29,
   "id": "76eedbc5",
   "metadata": {},
   "outputs": [],
   "source": [
    "# Columna MES_ANIO_DEF separar mes del año en dos columnas individuales FALTA\n",
    "# conteo y eliminacion de fechas que tienen en su inicio 00"
   ]
  },
  {
   "cell_type": "code",
   "execution_count": 30,
   "id": "26f5ed0f-7a12-4e4a-85f5-325666632550",
   "metadata": {},
   "outputs": [
    {
     "data": {
      "text/plain": [
       "array(['09/2015', '08/2015', '05/2015', '10/2015', '07/2015', '06/2015',\n",
       "       '02/2015', '12/2015', '01/2015', '11/2015', '04/2015', '03/2015',\n",
       "       '00/2015', '02/2016', '04/2016', '05/2016', '07/2016', '08/2016',\n",
       "       '09/2016', '10/2016', '11/2016', '12/2016', '01/2016', '06/2016',\n",
       "       '03/2016', '08/2017', '05/2017', '09/2017', '07/2017', '06/2017',\n",
       "       '12/2017', '01/2017', '03/2017', '02/2017', '04/2017', '10/2017',\n",
       "       '11/2017', '00/2017', '06/2018', '12/2018', '03/2018', '05/2018',\n",
       "       '10/2018', '02/2018', '08/2018', '04/2018', '11/2018', '01/2018',\n",
       "       '07/2018', '09/2018', '00/2018', '01/2019', '00/2019', '02/2019',\n",
       "       '03/2019', '06/2019', '04/2019', '05/2019', '07/2019', '08/2019',\n",
       "       '09/2019', '10/2019', '11/2019', '12/2019', '10/2020', '02/2020',\n",
       "       '12/2020', '08/2020', '09/2020', '06/2020', '01/2020', '04/2020',\n",
       "       '07/2020', '03/2020', '00/2020', '05/2020', '11/2020', '01/2021',\n",
       "       '05/2021', '06/2021', '10/2021', '12/2021', '03/2021', '02/2021',\n",
       "       '07/2021', '04/2021', '08/2021', '11/2021', '09/2021', '00/2021'],\n",
       "      dtype=object)"
      ]
     },
     "execution_count": 30,
     "metadata": {},
     "output_type": "execute_result"
    }
   ],
   "source": [
    "defunciones['mes_anio_defuncion'].unique()"
   ]
  },
  {
   "cell_type": "code",
   "execution_count": 31,
   "id": "97464b03-ad9e-4337-b1de-6bdc65856335",
   "metadata": {},
   "outputs": [
    {
     "name": "stdout",
     "output_type": "stream",
     "text": [
      "La cantidad de fechas en la columna \"mes_anio_defuncion\" que comienzan con \"00\" es: 1272\n"
     ]
    }
   ],
   "source": [
    "fechas_00 = defunciones[defunciones['mes_anio_defuncion'].str.strip().str.startswith('00')].shape[0]\n",
    "print(f'La cantidad de fechas en la columna \"mes_anio_defuncion\" que comienzan con \"00\" es: {fechas_00}')"
   ]
  },
  {
   "cell_type": "code",
   "execution_count": 32,
   "id": "15c78809-f262-4c77-8ed5-418547b2a8f6",
   "metadata": {},
   "outputs": [
    {
     "name": "stdout",
     "output_type": "stream",
     "text": [
      "El porcentaje de  \"fechas con 00\"  es: 0.05%\n"
     ]
    }
   ],
   "source": [
    "total_registros = defunciones.shape[0]\n",
    "porcentaje = (fechas_00 / total_registros) * 100\n",
    "print(f'El porcentaje de  \"fechas con 00\"  es: {porcentaje:.2f}%')"
   ]
  },
  {
   "cell_type": "code",
   "execution_count": 33,
   "id": "99145b01-e4be-40d1-9771-ec23d81f91b2",
   "metadata": {},
   "outputs": [],
   "source": [
    "defunciones = defunciones[~defunciones['mes_anio_defuncion'].str.startswith('00')]\n"
   ]
  },
  {
   "cell_type": "code",
   "execution_count": 34,
   "id": "b64c2387-e43c-4aed-bc24-993e0cb48b46",
   "metadata": {},
   "outputs": [
    {
     "data": {
      "text/plain": [
       "array(['09/2015', '08/2015', '05/2015', '10/2015', '07/2015', '06/2015',\n",
       "       '02/2015', '12/2015', '01/2015', '11/2015', '04/2015', '03/2015',\n",
       "       '02/2016', '04/2016', '05/2016', '07/2016', '08/2016', '09/2016',\n",
       "       '10/2016', '11/2016', '12/2016', '01/2016', '06/2016', '03/2016',\n",
       "       '08/2017', '05/2017', '09/2017', '07/2017', '06/2017', '12/2017',\n",
       "       '01/2017', '03/2017', '02/2017', '04/2017', '10/2017', '11/2017',\n",
       "       '06/2018', '12/2018', '03/2018', '05/2018', '10/2018', '02/2018',\n",
       "       '08/2018', '04/2018', '11/2018', '01/2018', '07/2018', '09/2018',\n",
       "       '01/2019', '02/2019', '03/2019', '06/2019', '04/2019', '05/2019',\n",
       "       '07/2019', '08/2019', '09/2019', '10/2019', '11/2019', '12/2019',\n",
       "       '10/2020', '02/2020', '12/2020', '08/2020', '09/2020', '06/2020',\n",
       "       '01/2020', '04/2020', '07/2020', '03/2020', '05/2020', '11/2020',\n",
       "       '01/2021', '05/2021', '06/2021', '10/2021', '12/2021', '03/2021',\n",
       "       '02/2021', '07/2021', '04/2021', '08/2021', '11/2021', '09/2021'],\n",
       "      dtype=object)"
      ]
     },
     "execution_count": 34,
     "metadata": {},
     "output_type": "execute_result"
    }
   ],
   "source": [
    "defunciones['mes_anio_defuncion'].unique()"
   ]
  },
  {
   "cell_type": "code",
   "execution_count": 35,
   "id": "716aaae2-d275-4fbc-8dc3-74b54488e689",
   "metadata": {},
   "outputs": [],
   "source": [
    "defunciones['anio'] = pd.to_datetime(defunciones['mes_anio_defuncion'], format='%m/%Y').dt.strftime('%y')\n"
   ]
  },
  {
   "cell_type": "code",
   "execution_count": 36,
   "id": "c62ec070-c949-4797-a03e-6ee186df392a",
   "metadata": {},
   "outputs": [],
   "source": [
    "defunciones['anio'] = '20' + defunciones['anio']  \n"
   ]
  },
  {
   "cell_type": "code",
   "execution_count": 37,
   "id": "b40da635-17ad-4a00-89fa-6f08359035cb",
   "metadata": {},
   "outputs": [],
   "source": [
    "defunciones['mes'] = pd.to_datetime(defunciones['mes_anio_defuncion'], format='%m/%Y').dt.strftime('%m')\n"
   ]
  },
  {
   "cell_type": "code",
   "execution_count": 38,
   "id": "4d9acfa5-87f6-42be-b077-9dde5b0738b7",
   "metadata": {},
   "outputs": [
    {
     "data": {
      "text/html": [
       "<div>\n",
       "<style scoped>\n",
       "    .dataframe tbody tr th:only-of-type {\n",
       "        vertical-align: middle;\n",
       "    }\n",
       "\n",
       "    .dataframe tbody tr th {\n",
       "        vertical-align: top;\n",
       "    }\n",
       "\n",
       "    .dataframe thead th {\n",
       "        text-align: right;\n",
       "    }\n",
       "</style>\n",
       "<table border=\"1\" class=\"dataframe\">\n",
       "  <thead>\n",
       "    <tr style=\"text-align: right;\">\n",
       "      <th></th>\n",
       "      <th>region</th>\n",
       "      <th>jurisdiccion</th>\n",
       "      <th>mes_anio_defuncion</th>\n",
       "      <th>sexo</th>\n",
       "      <th>grupo_etario</th>\n",
       "      <th>causa_defuncion</th>\n",
       "      <th>anio</th>\n",
       "      <th>mes</th>\n",
       "    </tr>\n",
       "  </thead>\n",
       "  <tbody>\n",
       "    <tr>\n",
       "      <th>0</th>\n",
       "      <td>Centro</td>\n",
       "      <td>Bs As</td>\n",
       "      <td>09/2015</td>\n",
       "      <td>1.Varones</td>\n",
       "      <td>01.menor a 20 anios</td>\n",
       "      <td>1500 AFECC  PERINATALES</td>\n",
       "      <td>2015</td>\n",
       "      <td>09</td>\n",
       "    </tr>\n",
       "    <tr>\n",
       "      <th>1</th>\n",
       "      <td>Centro</td>\n",
       "      <td>Bs As</td>\n",
       "      <td>09/2015</td>\n",
       "      <td>1.Varones</td>\n",
       "      <td>01.menor a 20 anios</td>\n",
       "      <td>1600 MALFORM  CONGENITAS, DEFORM  Y ANOM  CROM...</td>\n",
       "      <td>2015</td>\n",
       "      <td>09</td>\n",
       "    </tr>\n",
       "    <tr>\n",
       "      <th>2</th>\n",
       "      <td>Centro</td>\n",
       "      <td>Bs As</td>\n",
       "      <td>08/2015</td>\n",
       "      <td>1.Varones</td>\n",
       "      <td>01.menor a 20 anios</td>\n",
       "      <td>1600 MALFORM  CONGENITAS, DEFORM  Y ANOM  CROM...</td>\n",
       "      <td>2015</td>\n",
       "      <td>08</td>\n",
       "    </tr>\n",
       "    <tr>\n",
       "      <th>3</th>\n",
       "      <td>Centro</td>\n",
       "      <td>Bs As</td>\n",
       "      <td>05/2015</td>\n",
       "      <td>1.Varones</td>\n",
       "      <td>01.menor a 20 anios</td>\n",
       "      <td>1000 ENF SISTEMA RESPIRATORIO</td>\n",
       "      <td>2015</td>\n",
       "      <td>05</td>\n",
       "    </tr>\n",
       "    <tr>\n",
       "      <th>4</th>\n",
       "      <td>Centro</td>\n",
       "      <td>Bs As</td>\n",
       "      <td>10/2015</td>\n",
       "      <td>1.Varones</td>\n",
       "      <td>01.menor a 20 anios</td>\n",
       "      <td>1500 AFECC  PERINATALES</td>\n",
       "      <td>2015</td>\n",
       "      <td>10</td>\n",
       "    </tr>\n",
       "  </tbody>\n",
       "</table>\n",
       "</div>"
      ],
      "text/plain": [
       "   region jurisdiccion mes_anio_defuncion       sexo         grupo_etario  \\\n",
       "0  Centro        Bs As            09/2015  1.Varones  01.menor a 20 anios   \n",
       "1  Centro        Bs As            09/2015  1.Varones  01.menor a 20 anios   \n",
       "2  Centro        Bs As            08/2015  1.Varones  01.menor a 20 anios   \n",
       "3  Centro        Bs As            05/2015  1.Varones  01.menor a 20 anios   \n",
       "4  Centro        Bs As            10/2015  1.Varones  01.menor a 20 anios   \n",
       "\n",
       "                                     causa_defuncion  anio mes  \n",
       "0                            1500 AFECC  PERINATALES  2015  09  \n",
       "1  1600 MALFORM  CONGENITAS, DEFORM  Y ANOM  CROM...  2015  09  \n",
       "2  1600 MALFORM  CONGENITAS, DEFORM  Y ANOM  CROM...  2015  08  \n",
       "3                      1000 ENF SISTEMA RESPIRATORIO  2015  05  \n",
       "4                            1500 AFECC  PERINATALES  2015  10  "
      ]
     },
     "execution_count": 38,
     "metadata": {},
     "output_type": "execute_result"
    }
   ],
   "source": [
    "defunciones.head()"
   ]
  },
  {
   "cell_type": "code",
   "execution_count": 39,
   "id": "c40fc173-2295-46be-a5e3-fae1e2bbd271",
   "metadata": {},
   "outputs": [
    {
     "data": {
      "text/plain": [
       "array(['2015', '2016', '2017', '2018', '2019', '2020', '2021'],\n",
       "      dtype=object)"
      ]
     },
     "execution_count": 39,
     "metadata": {},
     "output_type": "execute_result"
    }
   ],
   "source": [
    "defunciones['anio'].unique()"
   ]
  },
  {
   "cell_type": "code",
   "execution_count": 40,
   "id": "9423f89c",
   "metadata": {},
   "outputs": [],
   "source": [
    "#Columna SEXO_NOMBRES se le cambió el nombre a \"sexo\" y se debe unificar los datos de - sin especificar e - ignorado\n",
    "# para que queden 3 categorias de datos, varones, mujeres e sin especificar. \n",
    "#Borrar números antes de las categorias\n"
   ]
  },
  {
   "cell_type": "code",
   "execution_count": 41,
   "id": "8984dbe0-548b-4360-9f54-1e78b792994c",
   "metadata": {},
   "outputs": [],
   "source": [
    "defunciones['sexo']= defunciones.sexo.str.extract('([a-zA-Z  ]+)') "
   ]
  },
  {
   "cell_type": "code",
   "execution_count": 42,
   "id": "a22b0f14-2488-4e4b-b5dd-f36047693dbe",
   "metadata": {},
   "outputs": [
    {
     "data": {
      "text/plain": [
       "array(['Varones', 'Mujeres', 'Sin especificar', 'Ignorado'], dtype=object)"
      ]
     },
     "execution_count": 42,
     "metadata": {},
     "output_type": "execute_result"
    }
   ],
   "source": [
    "defunciones['sexo'].unique()"
   ]
  },
  {
   "cell_type": "code",
   "execution_count": 43,
   "id": "f8e8bdad-8401-4656-8397-1711be426f8a",
   "metadata": {},
   "outputs": [],
   "source": [
    "defunciones['sexo'] = defunciones['sexo'].replace('Ignorado', 'Sin especificar')\n"
   ]
  },
  {
   "cell_type": "code",
   "execution_count": 44,
   "id": "0881114f-e2f7-4f3a-9e92-46ab1896cd3b",
   "metadata": {},
   "outputs": [
    {
     "data": {
      "text/plain": [
       "array(['Varones', 'Mujeres', 'Sin especificar'], dtype=object)"
      ]
     },
     "execution_count": 44,
     "metadata": {},
     "output_type": "execute_result"
    }
   ],
   "source": [
    "defunciones['sexo'].unique()"
   ]
  },
  {
   "cell_type": "code",
   "execution_count": 45,
   "id": "7008ba05",
   "metadata": {},
   "outputs": [],
   "source": [
    "# Columna GRUPO_ETARIO borrar números \n"
   ]
  },
  {
   "cell_type": "code",
   "execution_count": 46,
   "id": "8484328f-4c5d-4c6e-a0f4-73bee062f4b9",
   "metadata": {},
   "outputs": [
    {
     "name": "stderr",
     "output_type": "stream",
     "text": [
      "C:\\Users\\Sobran\\AppData\\Local\\Temp\\ipykernel_12704\\399464611.py:1: FutureWarning: The default value of regex will change from True to False in a future version.\n",
      "  defunciones['grupo_etario'] = defunciones['grupo_etario'].str.replace(r'^\\d+\\.', '')\n"
     ]
    }
   ],
   "source": [
    "defunciones['grupo_etario'] = defunciones['grupo_etario'].str.replace(r'^\\d+\\.', '')"
   ]
  },
  {
   "cell_type": "code",
   "execution_count": null,
   "id": "dfd5677e-518a-436e-9336-4579a1682bdc",
   "metadata": {},
   "outputs": [],
   "source": [
    "defunciones['grupo_etario'] = defunciones['grupo_etario'].str.replace('menor', '0')"
   ]
  },
  {
   "cell_type": "code",
   "execution_count": null,
   "id": "9769e471-e096-4b2c-bba8-5baaf5804af5",
   "metadata": {},
   "outputs": [
    {
     "data": {
      "text/plain": [
       "array(['0 a 20 anios', 'de 60 a 69 anios', 'de 40 a 49 anios',\n",
       "       'de 20 a 39 anios', 'de 50 a 59 anios', ' de 80 anios y mas',\n",
       "       'de 70 a 79 anios', 'sin especificar'], dtype=object)"
      ]
     },
     "execution_count": 48,
     "metadata": {},
     "output_type": "execute_result"
    }
   ],
   "source": [
    "defunciones['grupo_etario'].unique()"
   ]
  },
  {
   "cell_type": "code",
   "execution_count": null,
   "id": "3ff37d69",
   "metadata": {},
   "outputs": [],
   "source": [
    "# creacción diccionario de rangos etarios\n",
    "diccionario_etario= {'0 a 20 anios':1,'de 20 a 39 anios':2,'de 40 a 49 anios':3,\n",
    "                    'de 50 a 59 anios':4,'de 60 a 69 anios':5,'de 70 a 79 anios':6,\n",
    "                     ' de 80 anios y mas':7, 'sin especificar':8}\n",
    "#Asignar diccionario a contenido de columna grupo_etario\n",
    "defunciones=defunciones.replace({'grupo_etario':diccionario_etario}, regex=True)\n"
   ]
  },
  {
   "cell_type": "code",
   "execution_count": null,
   "id": "c6efe937",
   "metadata": {},
   "outputs": [
    {
     "data": {
      "text/plain": [
       "array([1, 5, 3, 2, 4, 7, 6, 8], dtype=int64)"
      ]
     },
     "execution_count": 50,
     "metadata": {},
     "output_type": "execute_result"
    }
   ],
   "source": [
    "defunciones['grupo_etario'].unique()"
   ]
  },
  {
   "cell_type": "code",
   "execution_count": 70,
   "id": "d3de4404",
   "metadata": {},
   "outputs": [],
   "source": [
    "# Columna causa_defuncion, anteriormente llamada grupo_causa_defuncion_CIE10, se borran los números en los datos\n",
    "defunciones['causa_defuncion'] = defunciones['causa_defuncion'].str.replace(r'\\d+', '', regex=True)"
   ]
  },
  {
   "cell_type": "code",
   "execution_count": 75,
   "id": "522dbae5-9ebb-4e99-9e70-228795527bf1",
   "metadata": {},
   "outputs": [
    {
     "data": {
      "text/plain": [
       "array([' AFECC  PERINATALES',\n",
       "       ' MALFORM  CONGENITAS, DEFORM  Y ANOM  CROMOSOMICAS',\n",
       "       ' ENF SISTEMA RESPIRATORIO', ' TRAST METABOLICOS',\n",
       "       ' CIERTAS ENF INFECCIOSAS Y PARASITARIAS',\n",
       "       ' SIGNOS, SINTOMAS Y AFECCIONES MAL DEFINIDAS Y DESCONOCIDAS',\n",
       "       ' ENF  DEL SISTEMA URINARIO', ' ENF  DEL SISTEMA CIRCULATORIO',\n",
       "       ' DEMAS CAUSAS DEFINIDAS', ' CAUSAS EXTERNAS', ' T MALIGNOS',\n",
       "       ' ENF  DEL HIGADO', ' DIABETES MELLITUS',\n",
       "       ' TRASTORNOS MENTALES Y DEL COMP', ' EMBARAZO, PARTO Y PUERPERIO',\n",
       "       ' C IN SITU, TUM BEN  Y COMP INCIERTO',\n",
       "       ' APEND , HERNIA CAV  ABDOM Y OBSTR  INTEST ', ' MENINGITIS',\n",
       "       ' ENF  DE ALZHEIMER', ' DEF  Y ANEMIAS NUTRICION'], dtype=object)"
      ]
     },
     "execution_count": 75,
     "metadata": {},
     "output_type": "execute_result"
    }
   ],
   "source": [
    "defunciones['causa_defuncion'].unique()"
   ]
  },
  {
   "cell_type": "code",
   "execution_count": 66,
   "id": "6ea2da70-5ff6-4d4a-a65e-3d5eba8a9937",
   "metadata": {},
   "outputs": [
    {
     "data": {
      "text/html": [
       "<div>\n",
       "<style scoped>\n",
       "    .dataframe tbody tr th:only-of-type {\n",
       "        vertical-align: middle;\n",
       "    }\n",
       "\n",
       "    .dataframe tbody tr th {\n",
       "        vertical-align: top;\n",
       "    }\n",
       "\n",
       "    .dataframe thead th {\n",
       "        text-align: right;\n",
       "    }\n",
       "</style>\n",
       "<table border=\"1\" class=\"dataframe\">\n",
       "  <thead>\n",
       "    <tr style=\"text-align: right;\">\n",
       "      <th></th>\n",
       "      <th>region</th>\n",
       "      <th>jurisdiccion</th>\n",
       "      <th>mes_anio_defuncion</th>\n",
       "      <th>sexo</th>\n",
       "      <th>grupo_etario</th>\n",
       "      <th>causa_defuncion</th>\n",
       "    </tr>\n",
       "  </thead>\n",
       "  <tbody>\n",
       "    <tr>\n",
       "      <th>0</th>\n",
       "      <td>Centro</td>\n",
       "      <td>Bs As</td>\n",
       "      <td>09/2015</td>\n",
       "      <td>1.Varones</td>\n",
       "      <td>01.menor a 20 anios</td>\n",
       "      <td>AFECC  PERINATALES</td>\n",
       "    </tr>\n",
       "    <tr>\n",
       "      <th>1</th>\n",
       "      <td>Centro</td>\n",
       "      <td>Bs As</td>\n",
       "      <td>09/2015</td>\n",
       "      <td>1.Varones</td>\n",
       "      <td>01.menor a 20 anios</td>\n",
       "      <td>MALFORM  CONGENITAS, DEFORM  Y ANOM  CROMOSOM...</td>\n",
       "    </tr>\n",
       "    <tr>\n",
       "      <th>2</th>\n",
       "      <td>Centro</td>\n",
       "      <td>Bs As</td>\n",
       "      <td>08/2015</td>\n",
       "      <td>1.Varones</td>\n",
       "      <td>01.menor a 20 anios</td>\n",
       "      <td>MALFORM  CONGENITAS, DEFORM  Y ANOM  CROMOSOM...</td>\n",
       "    </tr>\n",
       "    <tr>\n",
       "      <th>3</th>\n",
       "      <td>Centro</td>\n",
       "      <td>Bs As</td>\n",
       "      <td>05/2015</td>\n",
       "      <td>1.Varones</td>\n",
       "      <td>01.menor a 20 anios</td>\n",
       "      <td>ENF SISTEMA RESPIRATORIO</td>\n",
       "    </tr>\n",
       "    <tr>\n",
       "      <th>4</th>\n",
       "      <td>Centro</td>\n",
       "      <td>Bs As</td>\n",
       "      <td>10/2015</td>\n",
       "      <td>1.Varones</td>\n",
       "      <td>01.menor a 20 anios</td>\n",
       "      <td>AFECC  PERINATALES</td>\n",
       "    </tr>\n",
       "  </tbody>\n",
       "</table>\n",
       "</div>"
      ],
      "text/plain": [
       "   region jurisdiccion mes_anio_defuncion       sexo         grupo_etario  \\\n",
       "0  Centro        Bs As            09/2015  1.Varones  01.menor a 20 anios   \n",
       "1  Centro        Bs As            09/2015  1.Varones  01.menor a 20 anios   \n",
       "2  Centro        Bs As            08/2015  1.Varones  01.menor a 20 anios   \n",
       "3  Centro        Bs As            05/2015  1.Varones  01.menor a 20 anios   \n",
       "4  Centro        Bs As            10/2015  1.Varones  01.menor a 20 anios   \n",
       "\n",
       "                                     causa_defuncion  \n",
       "0                                 AFECC  PERINATALES  \n",
       "1   MALFORM  CONGENITAS, DEFORM  Y ANOM  CROMOSOM...  \n",
       "2   MALFORM  CONGENITAS, DEFORM  Y ANOM  CROMOSOM...  \n",
       "3                           ENF SISTEMA RESPIRATORIO  \n",
       "4                                 AFECC  PERINATALES  "
      ]
     },
     "execution_count": 66,
     "metadata": {},
     "output_type": "execute_result"
    }
   ],
   "source": [
    "defunciones.head()"
   ]
  },
  {
   "cell_type": "code",
   "execution_count": null,
   "id": "93582de4-bd26-4744-be30-bbaad015503c",
   "metadata": {},
   "outputs": [
    {
     "data": {
      "text/plain": [
       "Index(['region', 'jurisdiccion', 'mes_anio_defuncion', 'sexo', 'grupo_etario',\n",
       "       'causa_defuncion', 'anio', 'mes'],\n",
       "      dtype='object')"
      ]
     },
     "execution_count": 53,
     "metadata": {},
     "output_type": "execute_result"
    }
   ],
   "source": [
    "# Eliminar columna mes que no nos sirve para el análisis\n",
    "\n",
    "defunciones.columns"
   ]
  },
  {
   "cell_type": "code",
   "execution_count": null,
   "id": "d199c0b9-2b3f-4f9e-b8d9-46a614edcdde",
   "metadata": {},
   "outputs": [],
   "source": [
    "defunciones.drop('mes', axis=1, inplace=True)"
   ]
  },
  {
   "cell_type": "code",
   "execution_count": null,
   "id": "fbb70448",
   "metadata": {},
   "outputs": [],
   "source": [
    "defunciones.drop('mes_anio_defuncion', axis = 1, inplace=True)"
   ]
  },
  {
   "cell_type": "code",
   "execution_count": null,
   "id": "74e3e044",
   "metadata": {},
   "outputs": [
    {
     "data": {
      "text/html": [
       "<div>\n",
       "<style scoped>\n",
       "    .dataframe tbody tr th:only-of-type {\n",
       "        vertical-align: middle;\n",
       "    }\n",
       "\n",
       "    .dataframe tbody tr th {\n",
       "        vertical-align: top;\n",
       "    }\n",
       "\n",
       "    .dataframe thead th {\n",
       "        text-align: right;\n",
       "    }\n",
       "</style>\n",
       "<table border=\"1\" class=\"dataframe\">\n",
       "  <thead>\n",
       "    <tr style=\"text-align: right;\">\n",
       "      <th></th>\n",
       "      <th>region</th>\n",
       "      <th>jurisdiccion</th>\n",
       "      <th>sexo</th>\n",
       "      <th>grupo_etario</th>\n",
       "      <th>causa_defuncion</th>\n",
       "      <th>anio</th>\n",
       "    </tr>\n",
       "  </thead>\n",
       "  <tbody>\n",
       "    <tr>\n",
       "      <th>0</th>\n",
       "      <td>Centro</td>\n",
       "      <td>Bs As</td>\n",
       "      <td>Varones</td>\n",
       "      <td>1</td>\n",
       "      <td>AFECC  PERINATALES</td>\n",
       "      <td>2015</td>\n",
       "    </tr>\n",
       "    <tr>\n",
       "      <th>1</th>\n",
       "      <td>Centro</td>\n",
       "      <td>Bs As</td>\n",
       "      <td>Varones</td>\n",
       "      <td>1</td>\n",
       "      <td>MALFORM  CONGENITAS</td>\n",
       "      <td>2015</td>\n",
       "    </tr>\n",
       "    <tr>\n",
       "      <th>2</th>\n",
       "      <td>Centro</td>\n",
       "      <td>Bs As</td>\n",
       "      <td>Varones</td>\n",
       "      <td>1</td>\n",
       "      <td>MALFORM  CONGENITAS</td>\n",
       "      <td>2015</td>\n",
       "    </tr>\n",
       "    <tr>\n",
       "      <th>3</th>\n",
       "      <td>Centro</td>\n",
       "      <td>Bs As</td>\n",
       "      <td>Varones</td>\n",
       "      <td>1</td>\n",
       "      <td>ENF SISTEMA RESPIRATORIO</td>\n",
       "      <td>2015</td>\n",
       "    </tr>\n",
       "    <tr>\n",
       "      <th>4</th>\n",
       "      <td>Centro</td>\n",
       "      <td>Bs As</td>\n",
       "      <td>Varones</td>\n",
       "      <td>1</td>\n",
       "      <td>AFECC  PERINATALES</td>\n",
       "      <td>2015</td>\n",
       "    </tr>\n",
       "  </tbody>\n",
       "</table>\n",
       "</div>"
      ],
      "text/plain": [
       "   region jurisdiccion     sexo  grupo_etario            causa_defuncion  anio\n",
       "0  Centro        Bs As  Varones             1         AFECC  PERINATALES  2015\n",
       "1  Centro        Bs As  Varones             1        MALFORM  CONGENITAS  2015\n",
       "2  Centro        Bs As  Varones             1        MALFORM  CONGENITAS  2015\n",
       "3  Centro        Bs As  Varones             1   ENF SISTEMA RESPIRATORIO  2015\n",
       "4  Centro        Bs As  Varones             1         AFECC  PERINATALES  2015"
      ]
     },
     "execution_count": 56,
     "metadata": {},
     "output_type": "execute_result"
    }
   ],
   "source": [
    "defunciones.head()"
   ]
  },
  {
   "cell_type": "code",
   "execution_count": 60,
   "id": "c83dc44d",
   "metadata": {},
   "outputs": [],
   "source": [
    "# Guardamos el nuevo dataset limpio en otro archivo, este archivo se va a usar en Notebook 2 para EDA\n",
    "defunciones.to_csv('defunciones_limpio.csv')"
   ]
  },
  {
   "cell_type": "code",
   "execution_count": null,
   "id": "0779c456",
   "metadata": {},
   "outputs": [],
   "source": []
  }
 ],
 "metadata": {
  "kernelspec": {
   "display_name": "anaconda-2022.05-py39",
   "language": "python",
   "name": "conda-env-anaconda-2022.05-py39-py"
  },
  "language_info": {
   "codemirror_mode": {
    "name": "ipython",
    "version": 3
   },
   "file_extension": ".py",
   "mimetype": "text/x-python",
   "name": "python",
   "nbconvert_exporter": "python",
   "pygments_lexer": "ipython3",
   "version": "3.9.12"
  }
 },
 "nbformat": 4,
 "nbformat_minor": 5
}

{
 "cells": [
  {
   "cell_type": "code",
   "execution_count": 127,
   "id": "6db343e6-6c39-4793-b2aa-ef8e8a8ef612",
   "metadata": {},
   "outputs": [],
   "source": [
    "#practica de regresion lineal."
   ]
  },
  {
   "cell_type": "code",
   "execution_count": 128,
   "id": "b8168dc0-10c2-4d31-a96c-8a1ecfbf48b2",
   "metadata": {},
   "outputs": [],
   "source": [
    "#1 Importar librerias a utilizar\n",
    "import pandas as pd\n",
    "import numpy as np\n",
    "import matplotlib.pyplot as plt\n",
    "from sklearn.linear_model import LinearRegression\n",
    "from sklearn.model_selection import train_test_split\n",
    "from sklearn.preprocessing import StandardScaler\n"
   ]
  },
  {
   "cell_type": "code",
   "execution_count": 129,
   "id": "b86bb267-85af-48f8-8851-35286d2f1e99",
   "metadata": {},
   "outputs": [],
   "source": [
    "#2 leer archivo csv\n",
    "df = pd.read_csv('defunciones_limpio.csv')"
   ]
  },
  {
   "cell_type": "code",
   "execution_count": 130,
   "id": "cb21f863-4df7-4587-be6d-582b0552bdce",
   "metadata": {},
   "outputs": [
    {
     "data": {
      "text/html": [
       "<div>\n",
       "<style scoped>\n",
       "    .dataframe tbody tr th:only-of-type {\n",
       "        vertical-align: middle;\n",
       "    }\n",
       "\n",
       "    .dataframe tbody tr th {\n",
       "        vertical-align: top;\n",
       "    }\n",
       "\n",
       "    .dataframe thead th {\n",
       "        text-align: right;\n",
       "    }\n",
       "</style>\n",
       "<table border=\"1\" class=\"dataframe\">\n",
       "  <thead>\n",
       "    <tr style=\"text-align: right;\">\n",
       "      <th></th>\n",
       "      <th>Unnamed: 0</th>\n",
       "      <th>region</th>\n",
       "      <th>jurisdiccion</th>\n",
       "      <th>sexo</th>\n",
       "      <th>grupo_etario</th>\n",
       "      <th>causa_defuncion</th>\n",
       "      <th>anio</th>\n",
       "    </tr>\n",
       "  </thead>\n",
       "  <tbody>\n",
       "    <tr>\n",
       "      <th>0</th>\n",
       "      <td>0</td>\n",
       "      <td>Centro</td>\n",
       "      <td>Bs As</td>\n",
       "      <td>Varones</td>\n",
       "      <td>1</td>\n",
       "      <td>AFECC  PERINATALES</td>\n",
       "      <td>2015</td>\n",
       "    </tr>\n",
       "    <tr>\n",
       "      <th>1</th>\n",
       "      <td>1</td>\n",
       "      <td>Centro</td>\n",
       "      <td>Bs As</td>\n",
       "      <td>Varones</td>\n",
       "      <td>1</td>\n",
       "      <td>MALFORM  CONGENITAS, DEFORM  Y ANOM  CROMOSOM...</td>\n",
       "      <td>2015</td>\n",
       "    </tr>\n",
       "    <tr>\n",
       "      <th>2</th>\n",
       "      <td>2</td>\n",
       "      <td>Centro</td>\n",
       "      <td>Bs As</td>\n",
       "      <td>Varones</td>\n",
       "      <td>1</td>\n",
       "      <td>MALFORM  CONGENITAS, DEFORM  Y ANOM  CROMOSOM...</td>\n",
       "      <td>2015</td>\n",
       "    </tr>\n",
       "    <tr>\n",
       "      <th>3</th>\n",
       "      <td>3</td>\n",
       "      <td>Centro</td>\n",
       "      <td>Bs As</td>\n",
       "      <td>Varones</td>\n",
       "      <td>1</td>\n",
       "      <td>ENF SISTEMA RESPIRATORIO</td>\n",
       "      <td>2015</td>\n",
       "    </tr>\n",
       "    <tr>\n",
       "      <th>4</th>\n",
       "      <td>4</td>\n",
       "      <td>Centro</td>\n",
       "      <td>Bs As</td>\n",
       "      <td>Varones</td>\n",
       "      <td>1</td>\n",
       "      <td>AFECC  PERINATALES</td>\n",
       "      <td>2015</td>\n",
       "    </tr>\n",
       "  </tbody>\n",
       "</table>\n",
       "</div>"
      ],
      "text/plain": [
       "   Unnamed: 0  region jurisdiccion     sexo  grupo_etario  \\\n",
       "0           0  Centro        Bs As  Varones             1   \n",
       "1           1  Centro        Bs As  Varones             1   \n",
       "2           2  Centro        Bs As  Varones             1   \n",
       "3           3  Centro        Bs As  Varones             1   \n",
       "4           4  Centro        Bs As  Varones             1   \n",
       "\n",
       "                                     causa_defuncion  anio  \n",
       "0                                 AFECC  PERINATALES  2015  \n",
       "1   MALFORM  CONGENITAS, DEFORM  Y ANOM  CROMOSOM...  2015  \n",
       "2   MALFORM  CONGENITAS, DEFORM  Y ANOM  CROMOSOM...  2015  \n",
       "3                           ENF SISTEMA RESPIRATORIO  2015  \n",
       "4                                 AFECC  PERINATALES  2015  "
      ]
     },
     "execution_count": 130,
     "metadata": {},
     "output_type": "execute_result"
    }
   ],
   "source": [
    "#3 Chequeamos que leyó el archivo\n",
    "df.head()"
   ]
  },
  {
   "cell_type": "code",
   "execution_count": 131,
   "id": "79ddc434-62ba-44a5-9fd0-f517a4756e19",
   "metadata": {},
   "outputs": [],
   "source": [
    "# \"obj\"\n",
    "#analizar si el número de defunciones ha aumentado o disminuido a lo largo de los años\n",
    "#calcular cuántas defunciones ocurrieron en un cierto período de tiempo para hombres y mujeres por causa de muerte específica. \n",
    "# analizar cómo el género y la causa de la defunción interactúan entre sí."
   ]
  },
  {
   "cell_type": "code",
   "execution_count": 132,
   "id": "c91b3ab5-cef1-48fe-9c90-d0ac87406cd3",
   "metadata": {},
   "outputs": [],
   "source": [
    "#se correge las columnas de sexo y causa_defuncion\n",
    "#ya que estan como texto y no numericos hay una posibilidad de realizarlo con labelencoder y con one-hot(dummies)\n"
   ]
  },
  {
   "cell_type": "code",
   "execution_count": 133,
   "id": "6e6507e8-ce29-428d-b6ce-3bc44472cbbb",
   "metadata": {},
   "outputs": [],
   "source": [
    "# dummies \"causa_defuncion\""
   ]
  },
  {
   "cell_type": "code",
   "execution_count": 134,
   "id": "62634181-27a9-4649-95d1-fa0fdd9308b1",
   "metadata": {},
   "outputs": [],
   "source": [
    "causa_def = pd.get_dummies(df, columns=['causa_defuncion'], prefix=['causa'])"
   ]
  },
  {
   "cell_type": "code",
   "execution_count": 135,
   "id": "ad8eb8dc-553b-411d-8745-474e62d3cf18",
   "metadata": {},
   "outputs": [
    {
     "name": "stdout",
     "output_type": "stream",
     "text": [
      "         Unnamed: 0  region jurisdiccion     sexo  grupo_etario  anio  \\\n",
      "0                 0  Centro        Bs As  Varones             1  2015   \n",
      "1                 1  Centro        Bs As  Varones             1  2015   \n",
      "2                 2  Centro        Bs As  Varones             1  2015   \n",
      "3                 3  Centro        Bs As  Varones             1  2015   \n",
      "4                 4  Centro        Bs As  Varones             1  2015   \n",
      "...             ...     ...          ...      ...           ...   ...   \n",
      "2506311     2516779     NEA   Corrientes  Varones             1  2021   \n",
      "2506312     2516780     NEA   Corrientes  Varones             1  2021   \n",
      "2506313     2516781     NEA   Corrientes  Varones             1  2021   \n",
      "2506314     2516782     NEA   Corrientes  Varones             1  2021   \n",
      "2506315     2516783     NEA   Corrientes  Varones             1  2021   \n",
      "\n",
      "         causa_ AFECC  PERINATALES  \\\n",
      "0                                1   \n",
      "1                                0   \n",
      "2                                0   \n",
      "3                                0   \n",
      "4                                1   \n",
      "...                            ...   \n",
      "2506311                          1   \n",
      "2506312                          1   \n",
      "2506313                          0   \n",
      "2506314                          1   \n",
      "2506315                          1   \n",
      "\n",
      "         causa_ APEND , HERNIA CAV  ABDOM Y OBSTR  INTEST   \\\n",
      "0                                                        0   \n",
      "1                                                        0   \n",
      "2                                                        0   \n",
      "3                                                        0   \n",
      "4                                                        0   \n",
      "...                                                    ...   \n",
      "2506311                                                  0   \n",
      "2506312                                                  0   \n",
      "2506313                                                  0   \n",
      "2506314                                                  0   \n",
      "2506315                                                  0   \n",
      "\n",
      "         causa_ C IN SITU, TUM BEN  Y COMP INCIERTO  causa_ CAUSAS EXTERNAS  \\\n",
      "0                                                 0                       0   \n",
      "1                                                 0                       0   \n",
      "2                                                 0                       0   \n",
      "3                                                 0                       0   \n",
      "4                                                 0                       0   \n",
      "...                                             ...                     ...   \n",
      "2506311                                           0                       0   \n",
      "2506312                                           0                       0   \n",
      "2506313                                           0                       0   \n",
      "2506314                                           0                       0   \n",
      "2506315                                           0                       0   \n",
      "\n",
      "         ...  causa_ ENF  DEL HIGADO  causa_ ENF  DEL SISTEMA CIRCULATORIO  \\\n",
      "0        ...                       0                                     0   \n",
      "1        ...                       0                                     0   \n",
      "2        ...                       0                                     0   \n",
      "3        ...                       0                                     0   \n",
      "4        ...                       0                                     0   \n",
      "...      ...                     ...                                   ...   \n",
      "2506311  ...                       0                                     0   \n",
      "2506312  ...                       0                                     0   \n",
      "2506313  ...                       0                                     0   \n",
      "2506314  ...                       0                                     0   \n",
      "2506315  ...                       0                                     0   \n",
      "\n",
      "         causa_ ENF  DEL SISTEMA URINARIO  causa_ ENF SISTEMA RESPIRATORIO  \\\n",
      "0                                       0                                0   \n",
      "1                                       0                                0   \n",
      "2                                       0                                0   \n",
      "3                                       0                                1   \n",
      "4                                       0                                0   \n",
      "...                                   ...                              ...   \n",
      "2506311                                 0                                0   \n",
      "2506312                                 0                                0   \n",
      "2506313                                 0                                0   \n",
      "2506314                                 0                                0   \n",
      "2506315                                 0                                0   \n",
      "\n",
      "         causa_ MALFORM  CONGENITAS, DEFORM  Y ANOM  CROMOSOMICAS  \\\n",
      "0                                                        0          \n",
      "1                                                        1          \n",
      "2                                                        1          \n",
      "3                                                        0          \n",
      "4                                                        0          \n",
      "...                                                    ...          \n",
      "2506311                                                  0          \n",
      "2506312                                                  0          \n",
      "2506313                                                  0          \n",
      "2506314                                                  0          \n",
      "2506315                                                  0          \n",
      "\n",
      "         causa_ MENINGITIS  \\\n",
      "0                        0   \n",
      "1                        0   \n",
      "2                        0   \n",
      "3                        0   \n",
      "4                        0   \n",
      "...                    ...   \n",
      "2506311                  0   \n",
      "2506312                  0   \n",
      "2506313                  0   \n",
      "2506314                  0   \n",
      "2506315                  0   \n",
      "\n",
      "         causa_ SIGNOS, SINTOMAS Y AFECCIONES MAL DEFINIDAS Y DESCONOCIDAS  \\\n",
      "0                                                        0                   \n",
      "1                                                        0                   \n",
      "2                                                        0                   \n",
      "3                                                        0                   \n",
      "4                                                        0                   \n",
      "...                                                    ...                   \n",
      "2506311                                                  0                   \n",
      "2506312                                                  0                   \n",
      "2506313                                                  0                   \n",
      "2506314                                                  0                   \n",
      "2506315                                                  0                   \n",
      "\n",
      "         causa_ T MALIGNOS  causa_ TRAST METABOLICOS  \\\n",
      "0                        0                         0   \n",
      "1                        0                         0   \n",
      "2                        0                         0   \n",
      "3                        0                         0   \n",
      "4                        0                         0   \n",
      "...                    ...                       ...   \n",
      "2506311                  0                         0   \n",
      "2506312                  0                         0   \n",
      "2506313                  0                         0   \n",
      "2506314                  0                         0   \n",
      "2506315                  0                         0   \n",
      "\n",
      "         causa_ TRASTORNOS MENTALES Y DEL COMP  \n",
      "0                                            0  \n",
      "1                                            0  \n",
      "2                                            0  \n",
      "3                                            0  \n",
      "4                                            0  \n",
      "...                                        ...  \n",
      "2506311                                      0  \n",
      "2506312                                      0  \n",
      "2506313                                      0  \n",
      "2506314                                      0  \n",
      "2506315                                      0  \n",
      "\n",
      "[2506316 rows x 26 columns]\n"
     ]
    }
   ],
   "source": [
    "print(causa_def)"
   ]
  },
  {
   "cell_type": "code",
   "execution_count": 136,
   "id": "877175d2-33a3-472f-9518-7eefcffa261f",
   "metadata": {},
   "outputs": [],
   "source": [
    "# dummies \"sexo\""
   ]
  },
  {
   "cell_type": "code",
   "execution_count": 137,
   "id": "fb20e064-eb0a-4ef7-90fd-c7fb1949e5c6",
   "metadata": {},
   "outputs": [],
   "source": [
    "genero = pd.get_dummies(df, columns=['sexo'], prefix=['sexo'])"
   ]
  },
  {
   "cell_type": "code",
   "execution_count": 138,
   "id": "d900c849-060d-4d7b-82bf-93f7ba6d23dc",
   "metadata": {},
   "outputs": [
    {
     "name": "stdout",
     "output_type": "stream",
     "text": [
      "         Unnamed: 0  region jurisdiccion  grupo_etario  \\\n",
      "0                 0  Centro        Bs As             1   \n",
      "1                 1  Centro        Bs As             1   \n",
      "2                 2  Centro        Bs As             1   \n",
      "3                 3  Centro        Bs As             1   \n",
      "4                 4  Centro        Bs As             1   \n",
      "...             ...     ...          ...           ...   \n",
      "2506311     2516779     NEA   Corrientes             1   \n",
      "2506312     2516780     NEA   Corrientes             1   \n",
      "2506313     2516781     NEA   Corrientes             1   \n",
      "2506314     2516782     NEA   Corrientes             1   \n",
      "2506315     2516783     NEA   Corrientes             1   \n",
      "\n",
      "                                           causa_defuncion  anio  \\\n",
      "0                                       AFECC  PERINATALES  2015   \n",
      "1         MALFORM  CONGENITAS, DEFORM  Y ANOM  CROMOSOM...  2015   \n",
      "2         MALFORM  CONGENITAS, DEFORM  Y ANOM  CROMOSOM...  2015   \n",
      "3                                 ENF SISTEMA RESPIRATORIO  2015   \n",
      "4                                       AFECC  PERINATALES  2015   \n",
      "...                                                    ...   ...   \n",
      "2506311                                 AFECC  PERINATALES  2021   \n",
      "2506312                                 AFECC  PERINATALES  2021   \n",
      "2506313             CIERTAS ENF INFECCIOSAS Y PARASITARIAS  2021   \n",
      "2506314                                 AFECC  PERINATALES  2021   \n",
      "2506315                                 AFECC  PERINATALES  2021   \n",
      "\n",
      "         sexo_Mujeres  sexo_Sin especificar  sexo_Varones  \n",
      "0                   0                     0             1  \n",
      "1                   0                     0             1  \n",
      "2                   0                     0             1  \n",
      "3                   0                     0             1  \n",
      "4                   0                     0             1  \n",
      "...               ...                   ...           ...  \n",
      "2506311             0                     0             1  \n",
      "2506312             0                     0             1  \n",
      "2506313             0                     0             1  \n",
      "2506314             0                     0             1  \n",
      "2506315             0                     0             1  \n",
      "\n",
      "[2506316 rows x 9 columns]\n"
     ]
    }
   ],
   "source": [
    "print(genero)"
   ]
  },
  {
   "cell_type": "code",
   "execution_count": 139,
   "id": "c43095c2-6a04-457d-8d5a-7b8689aac1ee",
   "metadata": {},
   "outputs": [],
   "source": [
    "# normalizar "
   ]
  },
  {
   "cell_type": "code",
   "execution_count": 140,
   "id": "bf2d48ba-1786-4dc4-885e-18ed2c4bf0dd",
   "metadata": {},
   "outputs": [],
   "source": [
    "scaler = StandardScaler()\n",
    "X_normalisado = scaler.fit_transform(X)"
   ]
  },
  {
   "cell_type": "code",
   "execution_count": null,
   "id": "eaa93a0f-5751-46a0-b310-fa1e96511520",
   "metadata": {},
   "outputs": [],
   "source": []
  },
  {
   "cell_type": "code",
   "execution_count": 141,
   "id": "77f9dca6-58b6-4785-8c77-085e8542956a",
   "metadata": {},
   "outputs": [],
   "source": [
    "X = df[['anio', 'sexo', 'causa_defuncion']]\n",
    "y = df['grupo_etario']"
   ]
  },
  {
   "cell_type": "code",
   "execution_count": 142,
   "id": "20c3cecc-31af-4427-a276-0faf7ef902d9",
   "metadata": {},
   "outputs": [],
   "source": [
    "X = pd.get_dummies(X, columns=['sexo', 'causa_defuncion'], drop_first=True)"
   ]
  },
  {
   "cell_type": "code",
   "execution_count": 143,
   "id": "0a06455b-d5bf-4532-86f7-a14dbdb14f2c",
   "metadata": {},
   "outputs": [],
   "source": [
    "X_train, X_test, y_train, y_test = train_test_split(X, y, test_size=0.2, random_state=42)\n"
   ]
  },
  {
   "cell_type": "code",
   "execution_count": 144,
   "id": "f22cc44f-5d68-467f-84cd-87a8509a9fae",
   "metadata": {},
   "outputs": [],
   "source": [
    "model = LinearRegression()"
   ]
  },
  {
   "cell_type": "code",
   "execution_count": 145,
   "id": "905a5725-6800-4191-85b2-9b8e3ce324c6",
   "metadata": {},
   "outputs": [
    {
     "data": {
      "text/html": [
       "<style>#sk-container-id-2 {color: black;background-color: white;}#sk-container-id-2 pre{padding: 0;}#sk-container-id-2 div.sk-toggleable {background-color: white;}#sk-container-id-2 label.sk-toggleable__label {cursor: pointer;display: block;width: 100%;margin-bottom: 0;padding: 0.3em;box-sizing: border-box;text-align: center;}#sk-container-id-2 label.sk-toggleable__label-arrow:before {content: \"▸\";float: left;margin-right: 0.25em;color: #696969;}#sk-container-id-2 label.sk-toggleable__label-arrow:hover:before {color: black;}#sk-container-id-2 div.sk-estimator:hover label.sk-toggleable__label-arrow:before {color: black;}#sk-container-id-2 div.sk-toggleable__content {max-height: 0;max-width: 0;overflow: hidden;text-align: left;background-color: #f0f8ff;}#sk-container-id-2 div.sk-toggleable__content pre {margin: 0.2em;color: black;border-radius: 0.25em;background-color: #f0f8ff;}#sk-container-id-2 input.sk-toggleable__control:checked~div.sk-toggleable__content {max-height: 200px;max-width: 100%;overflow: auto;}#sk-container-id-2 input.sk-toggleable__control:checked~label.sk-toggleable__label-arrow:before {content: \"▾\";}#sk-container-id-2 div.sk-estimator input.sk-toggleable__control:checked~label.sk-toggleable__label {background-color: #d4ebff;}#sk-container-id-2 div.sk-label input.sk-toggleable__control:checked~label.sk-toggleable__label {background-color: #d4ebff;}#sk-container-id-2 input.sk-hidden--visually {border: 0;clip: rect(1px 1px 1px 1px);clip: rect(1px, 1px, 1px, 1px);height: 1px;margin: -1px;overflow: hidden;padding: 0;position: absolute;width: 1px;}#sk-container-id-2 div.sk-estimator {font-family: monospace;background-color: #f0f8ff;border: 1px dotted black;border-radius: 0.25em;box-sizing: border-box;margin-bottom: 0.5em;}#sk-container-id-2 div.sk-estimator:hover {background-color: #d4ebff;}#sk-container-id-2 div.sk-parallel-item::after {content: \"\";width: 100%;border-bottom: 1px solid gray;flex-grow: 1;}#sk-container-id-2 div.sk-label:hover label.sk-toggleable__label {background-color: #d4ebff;}#sk-container-id-2 div.sk-serial::before {content: \"\";position: absolute;border-left: 1px solid gray;box-sizing: border-box;top: 0;bottom: 0;left: 50%;z-index: 0;}#sk-container-id-2 div.sk-serial {display: flex;flex-direction: column;align-items: center;background-color: white;padding-right: 0.2em;padding-left: 0.2em;position: relative;}#sk-container-id-2 div.sk-item {position: relative;z-index: 1;}#sk-container-id-2 div.sk-parallel {display: flex;align-items: stretch;justify-content: center;background-color: white;position: relative;}#sk-container-id-2 div.sk-item::before, #sk-container-id-2 div.sk-parallel-item::before {content: \"\";position: absolute;border-left: 1px solid gray;box-sizing: border-box;top: 0;bottom: 0;left: 50%;z-index: -1;}#sk-container-id-2 div.sk-parallel-item {display: flex;flex-direction: column;z-index: 1;position: relative;background-color: white;}#sk-container-id-2 div.sk-parallel-item:first-child::after {align-self: flex-end;width: 50%;}#sk-container-id-2 div.sk-parallel-item:last-child::after {align-self: flex-start;width: 50%;}#sk-container-id-2 div.sk-parallel-item:only-child::after {width: 0;}#sk-container-id-2 div.sk-dashed-wrapped {border: 1px dashed gray;margin: 0 0.4em 0.5em 0.4em;box-sizing: border-box;padding-bottom: 0.4em;background-color: white;}#sk-container-id-2 div.sk-label label {font-family: monospace;font-weight: bold;display: inline-block;line-height: 1.2em;}#sk-container-id-2 div.sk-label-container {text-align: center;}#sk-container-id-2 div.sk-container {/* jupyter's `normalize.less` sets `[hidden] { display: none; }` but bootstrap.min.css set `[hidden] { display: none !important; }` so we also need the `!important` here to be able to override the default hidden behavior on the sphinx rendered scikit-learn.org. See: https://github.com/scikit-learn/scikit-learn/issues/21755 */display: inline-block !important;position: relative;}#sk-container-id-2 div.sk-text-repr-fallback {display: none;}</style><div id=\"sk-container-id-2\" class=\"sk-top-container\"><div class=\"sk-text-repr-fallback\"><pre>LinearRegression()</pre><b>In a Jupyter environment, please rerun this cell to show the HTML representation or trust the notebook. <br />On GitHub, the HTML representation is unable to render, please try loading this page with nbviewer.org.</b></div><div class=\"sk-container\" hidden><div class=\"sk-item\"><div class=\"sk-estimator sk-toggleable\"><input class=\"sk-toggleable__control sk-hidden--visually\" id=\"sk-estimator-id-2\" type=\"checkbox\" checked><label for=\"sk-estimator-id-2\" class=\"sk-toggleable__label sk-toggleable__label-arrow\">LinearRegression</label><div class=\"sk-toggleable__content\"><pre>LinearRegression()</pre></div></div></div></div></div>"
      ],
      "text/plain": [
       "LinearRegression()"
      ]
     },
     "execution_count": 145,
     "metadata": {},
     "output_type": "execute_result"
    }
   ],
   "source": [
    "model.fit(X_train, y_train)"
   ]
  },
  {
   "cell_type": "code",
   "execution_count": 146,
   "id": "c2597c8d-0b2f-426d-b6c7-965c7c4fa6ba",
   "metadata": {},
   "outputs": [],
   "source": [
    "y_pre = model.predict(X_test)"
   ]
  },
  {
   "cell_type": "code",
   "execution_count": 147,
   "id": "4e70f3ba-8865-4b04-ad8f-83158f76f2c1",
   "metadata": {},
   "outputs": [],
   "source": [
    "r2 = model.score(X_test, y_test)"
   ]
  },
  {
   "cell_type": "code",
   "execution_count": 148,
   "id": "bb491f75-60c7-4e61-9122-d62889f32a52",
   "metadata": {},
   "outputs": [],
   "source": [
    "#gráfico de dispersión: que nos permitira  comparar las predicciones del modelo con los valores reales."
   ]
  },
  {
   "cell_type": "code",
   "execution_count": 149,
   "id": "41eefc00-3095-47c2-9558-917e48c23613",
   "metadata": {},
   "outputs": [
    {
     "data": {
      "image/png": "[encoded data removed]",
      "text/plain": [
       "<Figure size 640x480 with 1 Axes>"
      ]
     },
     "metadata": {},
     "output_type": "display_data"
    }
   ],
   "source": [
    "plt.scatter(y_test, y_pre)\n",
    "plt.xlabel(\"valores reales\")\n",
    "plt.ylabel(\"valores de predicciones\")\n",
    "plt.show()"
   ]
  },
  {
   "cell_type": "code",
   "execution_count": 150,
   "id": "c9df53f5-f91e-44e5-a48b-d13df6f4509a",
   "metadata": {},
   "outputs": [
    {
     "name": "stdout",
     "output_type": "stream",
     "text": [
      "Coeficiente de Determinación R²: 0.2786641809385646\n"
     ]
    }
   ],
   "source": [
    "print(f\"Coeficiente de Determinación R²: {r2}\")"
   ]
  },
  {
   "cell_type": "code",
   "execution_count": null,
   "id": "c6c9ea6e-9528-4dec-bfe1-4c803056c498",
   "metadata": {},
   "outputs": [],
   "source": []
  }
 ],
 "metadata": {
  "kernelspec": {
   "display_name": "anaconda-panel-2023.05-py310",
   "language": "python",
   "name": "conda-env-anaconda-panel-2023.05-py310-py"
  },
  "language_info": {
   "codemirror_mode": {
    "name": "ipython",
    "version": 3
   },
   "file_extension": ".py",
   "mimetype": "text/x-python",
   "name": "python",
   "nbconvert_exporter": "python",
   "pygments_lexer": "ipython3",
   "version": "3.11.4"
  }
 },
 "nbformat": 4,
 "nbformat_minor": 5
}
